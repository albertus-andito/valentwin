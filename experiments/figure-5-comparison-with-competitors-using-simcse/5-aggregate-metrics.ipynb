{
 "cells": [
  {
   "cell_type": "code",
   "execution_count": 9,
   "metadata": {
    "collapsed": true,
    "ExecuteTime": {
     "start_time": "2024-06-01T13:39:22.776378Z",
     "end_time": "2024-06-01T13:39:22.895847Z"
    }
   },
   "outputs": [],
   "source": [
    "import pandas as pd\n",
    "import plotly.express as px\n",
    "import os"
   ]
  },
  {
   "cell_type": "code",
   "execution_count": 2,
   "outputs": [],
   "source": [
    "root_dir = \"./results/\"\n",
    "dataset_names = os.listdir(root_dir)\n",
    "metrics_fpaths = [os.path.join(root_dir, dataset_dir, \"metrics/100.csv\") for dataset_dir in dataset_names]\n"
   ],
   "metadata": {
    "collapsed": false,
    "ExecuteTime": {
     "start_time": "2024-06-01T13:31:42.605150Z",
     "end_time": "2024-06-01T13:31:42.608884Z"
    }
   }
  },
  {
   "cell_type": "code",
   "execution_count": 12,
   "outputs": [
    {
     "data": {
      "text/plain": "                   recall_at_sizeof_ground_truth  integration_set      method  \\\nALITE                                   0.268775  academic_papers       ALITE   \nALITE-simcse                            0.501976  academic_papers       ALITE   \nDeepJoin                                0.521739  academic_papers    DeepJoin   \nDeepJoin-simcse                         0.652174  academic_papers    DeepJoin   \nStarmie-FT                              0.652174  academic_papers  Starmie-FT   \n...                                          ...              ...         ...   \nStarmie-FT                              0.820513             cihr  Starmie-FT   \nStarmie-FT-simcse                       0.815705             cihr  Starmie-FT   \nStarmie-PT-simcse                       0.842949             cihr  Starmie-PT   \nStarmie-PT                              0.822115             cihr  Starmie-PT   \nValenTwin                               0.897436             cihr   ValenTwin   \n\n                          plm  \nALITE              Non-SimCSE  \nALITE-simcse           SimCSE  \nDeepJoin           Non-SimCSE  \nDeepJoin-simcse        SimCSE  \nStarmie-FT         Non-SimCSE  \n...                       ...  \nStarmie-FT         Non-SimCSE  \nStarmie-FT-simcse      SimCSE  \nStarmie-PT-simcse      SimCSE  \nStarmie-PT         Non-SimCSE  \nValenTwin              SimCSE  \n\n[134 rows x 4 columns]",
      "text/html": "<div>\n<style scoped>\n    .dataframe tbody tr th:only-of-type {\n        vertical-align: middle;\n    }\n\n    .dataframe tbody tr th {\n        vertical-align: top;\n    }\n\n    .dataframe thead th {\n        text-align: right;\n    }\n</style>\n<table border=\"1\" class=\"dataframe\">\n  <thead>\n    <tr style=\"text-align: right;\">\n      <th></th>\n      <th>recall_at_sizeof_ground_truth</th>\n      <th>integration_set</th>\n      <th>method</th>\n      <th>plm</th>\n    </tr>\n  </thead>\n  <tbody>\n    <tr>\n      <th>ALITE</th>\n      <td>0.268775</td>\n      <td>academic_papers</td>\n      <td>ALITE</td>\n      <td>Non-SimCSE</td>\n    </tr>\n    <tr>\n      <th>ALITE-simcse</th>\n      <td>0.501976</td>\n      <td>academic_papers</td>\n      <td>ALITE</td>\n      <td>SimCSE</td>\n    </tr>\n    <tr>\n      <th>DeepJoin</th>\n      <td>0.521739</td>\n      <td>academic_papers</td>\n      <td>DeepJoin</td>\n      <td>Non-SimCSE</td>\n    </tr>\n    <tr>\n      <th>DeepJoin-simcse</th>\n      <td>0.652174</td>\n      <td>academic_papers</td>\n      <td>DeepJoin</td>\n      <td>SimCSE</td>\n    </tr>\n    <tr>\n      <th>Starmie-FT</th>\n      <td>0.652174</td>\n      <td>academic_papers</td>\n      <td>Starmie-FT</td>\n      <td>Non-SimCSE</td>\n    </tr>\n    <tr>\n      <th>...</th>\n      <td>...</td>\n      <td>...</td>\n      <td>...</td>\n      <td>...</td>\n    </tr>\n    <tr>\n      <th>Starmie-FT</th>\n      <td>0.820513</td>\n      <td>cihr</td>\n      <td>Starmie-FT</td>\n      <td>Non-SimCSE</td>\n    </tr>\n    <tr>\n      <th>Starmie-FT-simcse</th>\n      <td>0.815705</td>\n      <td>cihr</td>\n      <td>Starmie-FT</td>\n      <td>SimCSE</td>\n    </tr>\n    <tr>\n      <th>Starmie-PT-simcse</th>\n      <td>0.842949</td>\n      <td>cihr</td>\n      <td>Starmie-PT</td>\n      <td>SimCSE</td>\n    </tr>\n    <tr>\n      <th>Starmie-PT</th>\n      <td>0.822115</td>\n      <td>cihr</td>\n      <td>Starmie-PT</td>\n      <td>Non-SimCSE</td>\n    </tr>\n    <tr>\n      <th>ValenTwin</th>\n      <td>0.897436</td>\n      <td>cihr</td>\n      <td>ValenTwin</td>\n      <td>SimCSE</td>\n    </tr>\n  </tbody>\n</table>\n<p>134 rows × 4 columns</p>\n</div>"
     },
     "execution_count": 12,
     "metadata": {},
     "output_type": "execute_result"
    }
   ],
   "source": [
    "dfs = {}\n",
    "for dataset_name, fpath in zip(dataset_names, metrics_fpaths):\n",
    "    df = pd.read_csv(fpath, index_col=0)\n",
    "    df = df.rename(index=lambda x: 'ValenTwin' if x.startswith('valentwin') else x)\n",
    "    df = df.rename(index=lambda x: 'ALITE' if x.startswith('alite') and \"simcse\" not in x else x)\n",
    "    df = df.rename(index=lambda x: 'ALITE-simcse' if x.startswith('alite') and \"simcse\" in x else x)\n",
    "    df = df.rename(index=lambda x: 'Starmie-FT' if x.startswith('starmie') and \"ft\" in x and \"simcse\" not in x else x)\n",
    "    df = df.rename(index=lambda x: 'Starmie-PT' if x.startswith('starmie') and \"ft\" not in x and \"simcse\" not in x else x)\n",
    "    df = df.rename(index=lambda x: 'Starmie-FT-simcse' if x.startswith('starmie') and \"ft\" in x and \"simcse\" in x else x)\n",
    "    df = df.rename(index=lambda x: 'Starmie-PT-simcse' if x.startswith('starmie') and \"ft\" not in x and \"simcse\" in x else x)\n",
    "    df = df.rename(index=lambda x: 'DeepJoin' if x.startswith('deepjoin') and \"simcse\" not in x else x)\n",
    "    df = df.rename(index=lambda x: 'DeepJoin-simcse' if x.startswith('deepjoin') and \"simcse\" in x else x)\n",
    "    df = df[[\"recall_at_sizeof_ground_truth\"]]\n",
    "    # df.columns = pd.MultiIndex.from_product([[dataset_name], df.columns])\n",
    "    df[\"integration_set\"] = dataset_name\n",
    "    df[\"method\"] = df.index.str.replace(\"-simcse\", \"\")\n",
    "    df[\"plm\"] = df.index.map(lambda x: \"SimCSE\" if \"simcse\" in x or \"ValenTwin\" in x else \"Non-SimCSE\")\n",
    "    dfs[dataset_name] = df\n",
    "\n",
    "# Concatenate all DataFrames along the columns\n",
    "concatenated_df = pd.concat(dfs.values(), axis=0)\n",
    "concatenated_df\n"
   ],
   "metadata": {
    "collapsed": false,
    "ExecuteTime": {
     "start_time": "2024-06-01T13:44:30.581661Z",
     "end_time": "2024-06-01T13:44:30.657243Z"
    }
   }
  },
  {
   "cell_type": "code",
   "execution_count": 13,
   "outputs": [
    {
     "data": {
      "application/vnd.plotly.v1+json": {
       "data": [
        {
         "alignmentgroup": "True",
         "hovertemplate": "PLM=Non-SimCSE<br>Method=%{x}<br>Recall@k=%{y}<extra></extra>",
         "legendgroup": "Non-SimCSE",
         "marker": {
          "color": "#636efa"
         },
         "name": "Non-SimCSE",
         "notched": false,
         "offsetgroup": "Non-SimCSE",
         "orientation": "v",
         "showlegend": true,
         "x": [
          "ALITE",
          "DeepJoin",
          "Starmie-FT",
          "Starmie-PT",
          "ALITE",
          "DeepJoin",
          "Starmie-FT",
          "Starmie-PT",
          "ALITE",
          "DeepJoin",
          "Starmie-FT",
          "Starmie-PT",
          "ALITE",
          "DeepJoin",
          "Starmie-FT",
          "Starmie-PT",
          "ALITE",
          "DeepJoin",
          "Starmie-FT",
          "Starmie-PT",
          "ALITE",
          "DeepJoin",
          "Starmie-FT",
          "Starmie-PT",
          "ALITE",
          "DeepJoin",
          "Starmie-FT",
          "Starmie-PT",
          "ALITE",
          "DeepJoin",
          "Starmie-FT",
          "Starmie-PT",
          "ALITE",
          "DeepJoin",
          "Starmie-FT",
          "Starmie-PT",
          "ALITE",
          "DeepJoin",
          "Starmie-FT",
          "Starmie-PT",
          "ALITE",
          "DeepJoin",
          "Starmie-FT",
          "Starmie-PT",
          "ALITE",
          "DeepJoin",
          "Starmie-FT",
          "Starmie-PT",
          "ALITE",
          "DeepJoin",
          "Starmie-FT",
          "Starmie-PT",
          "ALITE",
          "DeepJoin",
          "Starmie-FT",
          "Starmie-PT",
          "ALITE",
          "DeepJoin",
          "Starmie-FT",
          "Starmie-PT"
         ],
         "x0": " ",
         "xaxis": "x",
         "y": [
          0.2687747035573122,
          0.5217391304347826,
          0.6521739130434783,
          0.6442687747035574,
          0.1834625322997416,
          0.9147286821705426,
          0.6356589147286822,
          0.6640826873385013,
          0.0722021660649819,
          0.5270758122743683,
          0.6516245487364621,
          0.7472924187725631,
          0.4067796610169492,
          0.7410546139359698,
          0.7994350282485876,
          0.8832391713747646,
          0.1608391608391608,
          0.8321678321678322,
          0.8251748251748252,
          0.6993006993006993,
          0.3636363636363636,
          0.9545454545454546,
          0.5909090909090909,
          0.8636363636363636,
          0.1769230769230769,
          0.6871794871794872,
          0.6401709401709401,
          0.6051282051282051,
          0.7727272727272727,
          0.7818181818181819,
          0.8363636363636363,
          0.9545454545454546,
          0.5815217391304348,
          0.6630434782608695,
          0.7744565217391305,
          0.8288043478260869,
          0.5660377358490566,
          0.8867924528301887,
          0.8584905660377359,
          0.7075471698113207,
          0.3361027190332326,
          0.850453172205438,
          0.6555891238670695,
          0.6057401812688822,
          0.0797546012269938,
          0.3865030674846625,
          0.3650306748466257,
          0.5613496932515337,
          0.5512820512820513,
          0.8205128205128205,
          0.6282051282051282,
          0.5384615384615384,
          0.5222222222222223,
          0.8777777777777778,
          0.8777777777777778,
          0.6222222222222222,
          0.7676282051282052,
          0.7451923076923077,
          0.8205128205128205,
          0.8221153846153846
         ],
         "y0": " ",
         "yaxis": "y",
         "type": "box",
         "boxmean": true
        },
        {
         "alignmentgroup": "True",
         "hovertemplate": "PLM=SimCSE<br>Method=%{x}<br>Recall@k=%{y}<extra></extra>",
         "legendgroup": "SimCSE",
         "marker": {
          "color": "#EF553B"
         },
         "name": "SimCSE",
         "notched": false,
         "offsetgroup": "SimCSE",
         "orientation": "v",
         "showlegend": true,
         "x": [
          "ALITE",
          "DeepJoin",
          "Starmie-FT",
          "Starmie-PT",
          "ValenTwin",
          "ALITE",
          "DeepJoin",
          "Starmie-FT",
          "Starmie-PT",
          "ValenTwin",
          "ALITE",
          "DeepJoin",
          "Starmie-FT",
          "Starmie-PT",
          "ValenTwin",
          "ALITE",
          "DeepJoin",
          "Starmie-FT",
          "Starmie-PT",
          "ValenTwin",
          "ALITE",
          "DeepJoin",
          "Starmie-FT",
          "Starmie-PT",
          "ValenTwin",
          "ALITE",
          "DeepJoin",
          "Starmie-FT",
          "Starmie-PT",
          "ValenTwin",
          "ALITE",
          "DeepJoin",
          "Starmie-FT",
          "Starmie-PT",
          "ValenTwin",
          "ALITE",
          "DeepJoin",
          "Starmie-FT",
          "Starmie-PT",
          "ValenTwin",
          "ALITE",
          "DeepJoin",
          "Starmie-FT",
          "Starmie-PT",
          "ValenTwin",
          "DeepJoin",
          "Starmie-FT",
          "Starmie-PT",
          "ValenTwin",
          "ALITE",
          "DeepJoin",
          "Starmie-FT",
          "Starmie-PT",
          "ValenTwin",
          "ALITE",
          "DeepJoin",
          "Starmie-FT",
          "Starmie-PT",
          "ValenTwin",
          "ALITE",
          "DeepJoin",
          "Starmie-FT",
          "Starmie-PT",
          "ValenTwin",
          "ALITE",
          "DeepJoin",
          "Starmie-FT",
          "Starmie-PT",
          "ValenTwin",
          "ALITE",
          "DeepJoin",
          "Starmie-FT",
          "Starmie-PT",
          "ValenTwin"
         ],
         "x0": " ",
         "xaxis": "x",
         "y": [
          0.5019762845849802,
          0.6521739130434783,
          0.6640316205533597,
          0.6798418972332015,
          0.8379446640316206,
          0.3359173126614987,
          0.7312661498708011,
          0.6434108527131783,
          0.6692506459948321,
          0.8423772609819121,
          0.0631768953068592,
          0.4927797833935018,
          0.7527075812274369,
          0.7671480144404332,
          0.6696750902527075,
          0.4529190207156309,
          0.7325800376647834,
          0.9030131826741996,
          0.916195856873823,
          0.716572504708098,
          0.3426573426573426,
          0.8111888111888111,
          0.7062937062937062,
          0.7062937062937062,
          0.8951048951048951,
          0.3636363636363636,
          0.9090909090909092,
          0.7272727272727273,
          0.7272727272727273,
          0.9090909090909092,
          0.2418803418803418,
          0.6794871794871795,
          0.6,
          0.6042735042735042,
          0.8376068376068376,
          0.7727272727272727,
          0.9,
          0.9636363636363636,
          0.9636363636363636,
          0.9636363636363636,
          0.720108695652174,
          0.7255434782608695,
          0.8233695652173914,
          0.8288043478260869,
          0.7228260869565217,
          1.0,
          0.660377358490566,
          0.6981132075471698,
          1.0,
          0.4652567975830816,
          0.6676737160120846,
          0.6404833836858006,
          0.6525679758308157,
          0.7122356495468278,
          0.0552147239263803,
          0.3834355828220859,
          0.4754601226993865,
          0.5061349693251533,
          0.5122699386503068,
          0.782051282051282,
          0.9871794871794872,
          0.4871794871794871,
          0.5128205128205128,
          1.0,
          0.7666666666666667,
          0.8777777777777778,
          0.6444444444444445,
          0.6555555555555556,
          0.9888888888888888,
          0.907051282051282,
          0.908653846153846,
          0.8157051282051282,
          0.842948717948718,
          0.8974358974358975
         ],
         "y0": " ",
         "yaxis": "y",
         "type": "box",
         "boxmean": true
        }
       ],
       "layout": {
        "template": {
         "data": {
          "histogram2dcontour": [
           {
            "type": "histogram2dcontour",
            "colorbar": {
             "outlinewidth": 0,
             "ticks": ""
            },
            "colorscale": [
             [
              0.0,
              "#0d0887"
             ],
             [
              0.1111111111111111,
              "#46039f"
             ],
             [
              0.2222222222222222,
              "#7201a8"
             ],
             [
              0.3333333333333333,
              "#9c179e"
             ],
             [
              0.4444444444444444,
              "#bd3786"
             ],
             [
              0.5555555555555556,
              "#d8576b"
             ],
             [
              0.6666666666666666,
              "#ed7953"
             ],
             [
              0.7777777777777778,
              "#fb9f3a"
             ],
             [
              0.8888888888888888,
              "#fdca26"
             ],
             [
              1.0,
              "#f0f921"
             ]
            ]
           }
          ],
          "choropleth": [
           {
            "type": "choropleth",
            "colorbar": {
             "outlinewidth": 0,
             "ticks": ""
            }
           }
          ],
          "histogram2d": [
           {
            "type": "histogram2d",
            "colorbar": {
             "outlinewidth": 0,
             "ticks": ""
            },
            "colorscale": [
             [
              0.0,
              "#0d0887"
             ],
             [
              0.1111111111111111,
              "#46039f"
             ],
             [
              0.2222222222222222,
              "#7201a8"
             ],
             [
              0.3333333333333333,
              "#9c179e"
             ],
             [
              0.4444444444444444,
              "#bd3786"
             ],
             [
              0.5555555555555556,
              "#d8576b"
             ],
             [
              0.6666666666666666,
              "#ed7953"
             ],
             [
              0.7777777777777778,
              "#fb9f3a"
             ],
             [
              0.8888888888888888,
              "#fdca26"
             ],
             [
              1.0,
              "#f0f921"
             ]
            ]
           }
          ],
          "heatmap": [
           {
            "type": "heatmap",
            "colorbar": {
             "outlinewidth": 0,
             "ticks": ""
            },
            "colorscale": [
             [
              0.0,
              "#0d0887"
             ],
             [
              0.1111111111111111,
              "#46039f"
             ],
             [
              0.2222222222222222,
              "#7201a8"
             ],
             [
              0.3333333333333333,
              "#9c179e"
             ],
             [
              0.4444444444444444,
              "#bd3786"
             ],
             [
              0.5555555555555556,
              "#d8576b"
             ],
             [
              0.6666666666666666,
              "#ed7953"
             ],
             [
              0.7777777777777778,
              "#fb9f3a"
             ],
             [
              0.8888888888888888,
              "#fdca26"
             ],
             [
              1.0,
              "#f0f921"
             ]
            ]
           }
          ],
          "heatmapgl": [
           {
            "type": "heatmapgl",
            "colorbar": {
             "outlinewidth": 0,
             "ticks": ""
            },
            "colorscale": [
             [
              0.0,
              "#0d0887"
             ],
             [
              0.1111111111111111,
              "#46039f"
             ],
             [
              0.2222222222222222,
              "#7201a8"
             ],
             [
              0.3333333333333333,
              "#9c179e"
             ],
             [
              0.4444444444444444,
              "#bd3786"
             ],
             [
              0.5555555555555556,
              "#d8576b"
             ],
             [
              0.6666666666666666,
              "#ed7953"
             ],
             [
              0.7777777777777778,
              "#fb9f3a"
             ],
             [
              0.8888888888888888,
              "#fdca26"
             ],
             [
              1.0,
              "#f0f921"
             ]
            ]
           }
          ],
          "contourcarpet": [
           {
            "type": "contourcarpet",
            "colorbar": {
             "outlinewidth": 0,
             "ticks": ""
            }
           }
          ],
          "contour": [
           {
            "type": "contour",
            "colorbar": {
             "outlinewidth": 0,
             "ticks": ""
            },
            "colorscale": [
             [
              0.0,
              "#0d0887"
             ],
             [
              0.1111111111111111,
              "#46039f"
             ],
             [
              0.2222222222222222,
              "#7201a8"
             ],
             [
              0.3333333333333333,
              "#9c179e"
             ],
             [
              0.4444444444444444,
              "#bd3786"
             ],
             [
              0.5555555555555556,
              "#d8576b"
             ],
             [
              0.6666666666666666,
              "#ed7953"
             ],
             [
              0.7777777777777778,
              "#fb9f3a"
             ],
             [
              0.8888888888888888,
              "#fdca26"
             ],
             [
              1.0,
              "#f0f921"
             ]
            ]
           }
          ],
          "surface": [
           {
            "type": "surface",
            "colorbar": {
             "outlinewidth": 0,
             "ticks": ""
            },
            "colorscale": [
             [
              0.0,
              "#0d0887"
             ],
             [
              0.1111111111111111,
              "#46039f"
             ],
             [
              0.2222222222222222,
              "#7201a8"
             ],
             [
              0.3333333333333333,
              "#9c179e"
             ],
             [
              0.4444444444444444,
              "#bd3786"
             ],
             [
              0.5555555555555556,
              "#d8576b"
             ],
             [
              0.6666666666666666,
              "#ed7953"
             ],
             [
              0.7777777777777778,
              "#fb9f3a"
             ],
             [
              0.8888888888888888,
              "#fdca26"
             ],
             [
              1.0,
              "#f0f921"
             ]
            ]
           }
          ],
          "mesh3d": [
           {
            "type": "mesh3d",
            "colorbar": {
             "outlinewidth": 0,
             "ticks": ""
            }
           }
          ],
          "scatter": [
           {
            "fillpattern": {
             "fillmode": "overlay",
             "size": 10,
             "solidity": 0.2
            },
            "type": "scatter"
           }
          ],
          "parcoords": [
           {
            "type": "parcoords",
            "line": {
             "colorbar": {
              "outlinewidth": 0,
              "ticks": ""
             }
            }
           }
          ],
          "scatterpolargl": [
           {
            "type": "scatterpolargl",
            "marker": {
             "colorbar": {
              "outlinewidth": 0,
              "ticks": ""
             }
            }
           }
          ],
          "bar": [
           {
            "error_x": {
             "color": "#2a3f5f"
            },
            "error_y": {
             "color": "#2a3f5f"
            },
            "marker": {
             "line": {
              "color": "#E5ECF6",
              "width": 0.5
             },
             "pattern": {
              "fillmode": "overlay",
              "size": 10,
              "solidity": 0.2
             }
            },
            "type": "bar"
           }
          ],
          "scattergeo": [
           {
            "type": "scattergeo",
            "marker": {
             "colorbar": {
              "outlinewidth": 0,
              "ticks": ""
             }
            }
           }
          ],
          "scatterpolar": [
           {
            "type": "scatterpolar",
            "marker": {
             "colorbar": {
              "outlinewidth": 0,
              "ticks": ""
             }
            }
           }
          ],
          "histogram": [
           {
            "marker": {
             "pattern": {
              "fillmode": "overlay",
              "size": 10,
              "solidity": 0.2
             }
            },
            "type": "histogram"
           }
          ],
          "scattergl": [
           {
            "type": "scattergl",
            "marker": {
             "colorbar": {
              "outlinewidth": 0,
              "ticks": ""
             }
            }
           }
          ],
          "scatter3d": [
           {
            "type": "scatter3d",
            "line": {
             "colorbar": {
              "outlinewidth": 0,
              "ticks": ""
             }
            },
            "marker": {
             "colorbar": {
              "outlinewidth": 0,
              "ticks": ""
             }
            }
           }
          ],
          "scattermapbox": [
           {
            "type": "scattermapbox",
            "marker": {
             "colorbar": {
              "outlinewidth": 0,
              "ticks": ""
             }
            }
           }
          ],
          "scatterternary": [
           {
            "type": "scatterternary",
            "marker": {
             "colorbar": {
              "outlinewidth": 0,
              "ticks": ""
             }
            }
           }
          ],
          "scattercarpet": [
           {
            "type": "scattercarpet",
            "marker": {
             "colorbar": {
              "outlinewidth": 0,
              "ticks": ""
             }
            }
           }
          ],
          "carpet": [
           {
            "aaxis": {
             "endlinecolor": "#2a3f5f",
             "gridcolor": "white",
             "linecolor": "white",
             "minorgridcolor": "white",
             "startlinecolor": "#2a3f5f"
            },
            "baxis": {
             "endlinecolor": "#2a3f5f",
             "gridcolor": "white",
             "linecolor": "white",
             "minorgridcolor": "white",
             "startlinecolor": "#2a3f5f"
            },
            "type": "carpet"
           }
          ],
          "table": [
           {
            "cells": {
             "fill": {
              "color": "#EBF0F8"
             },
             "line": {
              "color": "white"
             }
            },
            "header": {
             "fill": {
              "color": "#C8D4E3"
             },
             "line": {
              "color": "white"
             }
            },
            "type": "table"
           }
          ],
          "barpolar": [
           {
            "marker": {
             "line": {
              "color": "#E5ECF6",
              "width": 0.5
             },
             "pattern": {
              "fillmode": "overlay",
              "size": 10,
              "solidity": 0.2
             }
            },
            "type": "barpolar"
           }
          ],
          "pie": [
           {
            "automargin": true,
            "type": "pie"
           }
          ]
         },
         "layout": {
          "autotypenumbers": "strict",
          "colorway": [
           "#636efa",
           "#EF553B",
           "#00cc96",
           "#ab63fa",
           "#FFA15A",
           "#19d3f3",
           "#FF6692",
           "#B6E880",
           "#FF97FF",
           "#FECB52"
          ],
          "font": {
           "color": "#2a3f5f"
          },
          "hovermode": "closest",
          "hoverlabel": {
           "align": "left"
          },
          "paper_bgcolor": "white",
          "plot_bgcolor": "#E5ECF6",
          "polar": {
           "bgcolor": "#E5ECF6",
           "angularaxis": {
            "gridcolor": "white",
            "linecolor": "white",
            "ticks": ""
           },
           "radialaxis": {
            "gridcolor": "white",
            "linecolor": "white",
            "ticks": ""
           }
          },
          "ternary": {
           "bgcolor": "#E5ECF6",
           "aaxis": {
            "gridcolor": "white",
            "linecolor": "white",
            "ticks": ""
           },
           "baxis": {
            "gridcolor": "white",
            "linecolor": "white",
            "ticks": ""
           },
           "caxis": {
            "gridcolor": "white",
            "linecolor": "white",
            "ticks": ""
           }
          },
          "coloraxis": {
           "colorbar": {
            "outlinewidth": 0,
            "ticks": ""
           }
          },
          "colorscale": {
           "sequential": [
            [
             0.0,
             "#0d0887"
            ],
            [
             0.1111111111111111,
             "#46039f"
            ],
            [
             0.2222222222222222,
             "#7201a8"
            ],
            [
             0.3333333333333333,
             "#9c179e"
            ],
            [
             0.4444444444444444,
             "#bd3786"
            ],
            [
             0.5555555555555556,
             "#d8576b"
            ],
            [
             0.6666666666666666,
             "#ed7953"
            ],
            [
             0.7777777777777778,
             "#fb9f3a"
            ],
            [
             0.8888888888888888,
             "#fdca26"
            ],
            [
             1.0,
             "#f0f921"
            ]
           ],
           "sequentialminus": [
            [
             0.0,
             "#0d0887"
            ],
            [
             0.1111111111111111,
             "#46039f"
            ],
            [
             0.2222222222222222,
             "#7201a8"
            ],
            [
             0.3333333333333333,
             "#9c179e"
            ],
            [
             0.4444444444444444,
             "#bd3786"
            ],
            [
             0.5555555555555556,
             "#d8576b"
            ],
            [
             0.6666666666666666,
             "#ed7953"
            ],
            [
             0.7777777777777778,
             "#fb9f3a"
            ],
            [
             0.8888888888888888,
             "#fdca26"
            ],
            [
             1.0,
             "#f0f921"
            ]
           ],
           "diverging": [
            [
             0,
             "#8e0152"
            ],
            [
             0.1,
             "#c51b7d"
            ],
            [
             0.2,
             "#de77ae"
            ],
            [
             0.3,
             "#f1b6da"
            ],
            [
             0.4,
             "#fde0ef"
            ],
            [
             0.5,
             "#f7f7f7"
            ],
            [
             0.6,
             "#e6f5d0"
            ],
            [
             0.7,
             "#b8e186"
            ],
            [
             0.8,
             "#7fbc41"
            ],
            [
             0.9,
             "#4d9221"
            ],
            [
             1,
             "#276419"
            ]
           ]
          },
          "xaxis": {
           "gridcolor": "white",
           "linecolor": "white",
           "ticks": "",
           "title": {
            "standoff": 15
           },
           "zerolinecolor": "white",
           "automargin": true,
           "zerolinewidth": 2
          },
          "yaxis": {
           "gridcolor": "white",
           "linecolor": "white",
           "ticks": "",
           "title": {
            "standoff": 15
           },
           "zerolinecolor": "white",
           "automargin": true,
           "zerolinewidth": 2
          },
          "scene": {
           "xaxis": {
            "backgroundcolor": "#E5ECF6",
            "gridcolor": "white",
            "linecolor": "white",
            "showbackground": true,
            "ticks": "",
            "zerolinecolor": "white",
            "gridwidth": 2
           },
           "yaxis": {
            "backgroundcolor": "#E5ECF6",
            "gridcolor": "white",
            "linecolor": "white",
            "showbackground": true,
            "ticks": "",
            "zerolinecolor": "white",
            "gridwidth": 2
           },
           "zaxis": {
            "backgroundcolor": "#E5ECF6",
            "gridcolor": "white",
            "linecolor": "white",
            "showbackground": true,
            "ticks": "",
            "zerolinecolor": "white",
            "gridwidth": 2
           }
          },
          "shapedefaults": {
           "line": {
            "color": "#2a3f5f"
           }
          },
          "annotationdefaults": {
           "arrowcolor": "#2a3f5f",
           "arrowhead": 0,
           "arrowwidth": 1
          },
          "geo": {
           "bgcolor": "white",
           "landcolor": "#E5ECF6",
           "subunitcolor": "white",
           "showland": true,
           "showlakes": true,
           "lakecolor": "white"
          },
          "title": {
           "x": 0.05
          },
          "mapbox": {
           "style": "light"
          }
         }
        },
        "xaxis": {
         "anchor": "y",
         "domain": [
          0.0,
          1.0
         ],
         "title": {
          "text": "Method"
         },
         "mirror": true,
         "ticks": "outside",
         "showline": true,
         "linecolor": "black",
         "gridcolor": "lightgrey",
         "categoryorder": "array",
         "categoryarray": [
          "ALITE",
          "Starmie-PT",
          "Starmie-FT",
          "DeepJoin",
          "ValenTwin"
         ]
        },
        "yaxis": {
         "anchor": "x",
         "domain": [
          0.0,
          1.0
         ],
         "title": {
          "text": "Recall@k"
         },
         "mirror": true,
         "ticks": "outside",
         "tickformat": ".2f",
         "showline": true,
         "linecolor": "black",
         "gridcolor": "lightgrey"
        },
        "legend": {
         "title": {
          "text": "PLM"
         },
         "tracegroupgap": 0,
         "orientation": "h",
         "yanchor": "bottom",
         "y": 1.02,
         "xanchor": "right",
         "x": 0.75
        },
        "margin": {
         "t": 0,
         "l": 0,
         "r": 0,
         "b": 0
        },
        "boxmode": "group",
        "height": 400,
        "width": 600,
        "font": {
         "family": "Times Roman",
         "color": "black",
         "size": 16
        },
        "plot_bgcolor": "white"
       },
       "config": {
        "plotlyServerURL": "https://plot.ly"
       }
      },
      "text/html": "<div>                            <div id=\"fc85ab74-1a19-44ea-a83d-49a0d7bbdde9\" class=\"plotly-graph-div\" style=\"height:400px; width:600px;\"></div>            <script type=\"text/javascript\">                require([\"plotly\"], function(Plotly) {                    window.PLOTLYENV=window.PLOTLYENV || {};                                    if (document.getElementById(\"fc85ab74-1a19-44ea-a83d-49a0d7bbdde9\")) {                    Plotly.newPlot(                        \"fc85ab74-1a19-44ea-a83d-49a0d7bbdde9\",                        [{\"alignmentgroup\":\"True\",\"hovertemplate\":\"PLM=Non-SimCSE\\u003cbr\\u003eMethod=%{x}\\u003cbr\\u003eRecall@k=%{y}\\u003cextra\\u003e\\u003c\\u002fextra\\u003e\",\"legendgroup\":\"Non-SimCSE\",\"marker\":{\"color\":\"#636efa\"},\"name\":\"Non-SimCSE\",\"notched\":false,\"offsetgroup\":\"Non-SimCSE\",\"orientation\":\"v\",\"showlegend\":true,\"x\":[\"ALITE\",\"DeepJoin\",\"Starmie-FT\",\"Starmie-PT\",\"ALITE\",\"DeepJoin\",\"Starmie-FT\",\"Starmie-PT\",\"ALITE\",\"DeepJoin\",\"Starmie-FT\",\"Starmie-PT\",\"ALITE\",\"DeepJoin\",\"Starmie-FT\",\"Starmie-PT\",\"ALITE\",\"DeepJoin\",\"Starmie-FT\",\"Starmie-PT\",\"ALITE\",\"DeepJoin\",\"Starmie-FT\",\"Starmie-PT\",\"ALITE\",\"DeepJoin\",\"Starmie-FT\",\"Starmie-PT\",\"ALITE\",\"DeepJoin\",\"Starmie-FT\",\"Starmie-PT\",\"ALITE\",\"DeepJoin\",\"Starmie-FT\",\"Starmie-PT\",\"ALITE\",\"DeepJoin\",\"Starmie-FT\",\"Starmie-PT\",\"ALITE\",\"DeepJoin\",\"Starmie-FT\",\"Starmie-PT\",\"ALITE\",\"DeepJoin\",\"Starmie-FT\",\"Starmie-PT\",\"ALITE\",\"DeepJoin\",\"Starmie-FT\",\"Starmie-PT\",\"ALITE\",\"DeepJoin\",\"Starmie-FT\",\"Starmie-PT\",\"ALITE\",\"DeepJoin\",\"Starmie-FT\",\"Starmie-PT\"],\"x0\":\" \",\"xaxis\":\"x\",\"y\":[0.2687747035573122,0.5217391304347826,0.6521739130434783,0.6442687747035574,0.1834625322997416,0.9147286821705426,0.6356589147286822,0.6640826873385013,0.0722021660649819,0.5270758122743683,0.6516245487364621,0.7472924187725631,0.4067796610169492,0.7410546139359698,0.7994350282485876,0.8832391713747646,0.1608391608391608,0.8321678321678322,0.8251748251748252,0.6993006993006993,0.3636363636363636,0.9545454545454546,0.5909090909090909,0.8636363636363636,0.1769230769230769,0.6871794871794872,0.6401709401709401,0.6051282051282051,0.7727272727272727,0.7818181818181819,0.8363636363636363,0.9545454545454546,0.5815217391304348,0.6630434782608695,0.7744565217391305,0.8288043478260869,0.5660377358490566,0.8867924528301887,0.8584905660377359,0.7075471698113207,0.3361027190332326,0.850453172205438,0.6555891238670695,0.6057401812688822,0.0797546012269938,0.3865030674846625,0.3650306748466257,0.5613496932515337,0.5512820512820513,0.8205128205128205,0.6282051282051282,0.5384615384615384,0.5222222222222223,0.8777777777777778,0.8777777777777778,0.6222222222222222,0.7676282051282052,0.7451923076923077,0.8205128205128205,0.8221153846153846],\"y0\":\" \",\"yaxis\":\"y\",\"type\":\"box\",\"boxmean\":true},{\"alignmentgroup\":\"True\",\"hovertemplate\":\"PLM=SimCSE\\u003cbr\\u003eMethod=%{x}\\u003cbr\\u003eRecall@k=%{y}\\u003cextra\\u003e\\u003c\\u002fextra\\u003e\",\"legendgroup\":\"SimCSE\",\"marker\":{\"color\":\"#EF553B\"},\"name\":\"SimCSE\",\"notched\":false,\"offsetgroup\":\"SimCSE\",\"orientation\":\"v\",\"showlegend\":true,\"x\":[\"ALITE\",\"DeepJoin\",\"Starmie-FT\",\"Starmie-PT\",\"ValenTwin\",\"ALITE\",\"DeepJoin\",\"Starmie-FT\",\"Starmie-PT\",\"ValenTwin\",\"ALITE\",\"DeepJoin\",\"Starmie-FT\",\"Starmie-PT\",\"ValenTwin\",\"ALITE\",\"DeepJoin\",\"Starmie-FT\",\"Starmie-PT\",\"ValenTwin\",\"ALITE\",\"DeepJoin\",\"Starmie-FT\",\"Starmie-PT\",\"ValenTwin\",\"ALITE\",\"DeepJoin\",\"Starmie-FT\",\"Starmie-PT\",\"ValenTwin\",\"ALITE\",\"DeepJoin\",\"Starmie-FT\",\"Starmie-PT\",\"ValenTwin\",\"ALITE\",\"DeepJoin\",\"Starmie-FT\",\"Starmie-PT\",\"ValenTwin\",\"ALITE\",\"DeepJoin\",\"Starmie-FT\",\"Starmie-PT\",\"ValenTwin\",\"DeepJoin\",\"Starmie-FT\",\"Starmie-PT\",\"ValenTwin\",\"ALITE\",\"DeepJoin\",\"Starmie-FT\",\"Starmie-PT\",\"ValenTwin\",\"ALITE\",\"DeepJoin\",\"Starmie-FT\",\"Starmie-PT\",\"ValenTwin\",\"ALITE\",\"DeepJoin\",\"Starmie-FT\",\"Starmie-PT\",\"ValenTwin\",\"ALITE\",\"DeepJoin\",\"Starmie-FT\",\"Starmie-PT\",\"ValenTwin\",\"ALITE\",\"DeepJoin\",\"Starmie-FT\",\"Starmie-PT\",\"ValenTwin\"],\"x0\":\" \",\"xaxis\":\"x\",\"y\":[0.5019762845849802,0.6521739130434783,0.6640316205533597,0.6798418972332015,0.8379446640316206,0.3359173126614987,0.7312661498708011,0.6434108527131783,0.6692506459948321,0.8423772609819121,0.0631768953068592,0.4927797833935018,0.7527075812274369,0.7671480144404332,0.6696750902527075,0.4529190207156309,0.7325800376647834,0.9030131826741996,0.916195856873823,0.716572504708098,0.3426573426573426,0.8111888111888111,0.7062937062937062,0.7062937062937062,0.8951048951048951,0.3636363636363636,0.9090909090909092,0.7272727272727273,0.7272727272727273,0.9090909090909092,0.2418803418803418,0.6794871794871795,0.6,0.6042735042735042,0.8376068376068376,0.7727272727272727,0.9,0.9636363636363636,0.9636363636363636,0.9636363636363636,0.720108695652174,0.7255434782608695,0.8233695652173914,0.8288043478260869,0.7228260869565217,1.0,0.660377358490566,0.6981132075471698,1.0,0.4652567975830816,0.6676737160120846,0.6404833836858006,0.6525679758308157,0.7122356495468278,0.0552147239263803,0.3834355828220859,0.4754601226993865,0.5061349693251533,0.5122699386503068,0.782051282051282,0.9871794871794872,0.4871794871794871,0.5128205128205128,1.0,0.7666666666666667,0.8777777777777778,0.6444444444444445,0.6555555555555556,0.9888888888888888,0.907051282051282,0.908653846153846,0.8157051282051282,0.842948717948718,0.8974358974358975],\"y0\":\" \",\"yaxis\":\"y\",\"type\":\"box\",\"boxmean\":true}],                        {\"template\":{\"data\":{\"histogram2dcontour\":[{\"type\":\"histogram2dcontour\",\"colorbar\":{\"outlinewidth\":0,\"ticks\":\"\"},\"colorscale\":[[0.0,\"#0d0887\"],[0.1111111111111111,\"#46039f\"],[0.2222222222222222,\"#7201a8\"],[0.3333333333333333,\"#9c179e\"],[0.4444444444444444,\"#bd3786\"],[0.5555555555555556,\"#d8576b\"],[0.6666666666666666,\"#ed7953\"],[0.7777777777777778,\"#fb9f3a\"],[0.8888888888888888,\"#fdca26\"],[1.0,\"#f0f921\"]]}],\"choropleth\":[{\"type\":\"choropleth\",\"colorbar\":{\"outlinewidth\":0,\"ticks\":\"\"}}],\"histogram2d\":[{\"type\":\"histogram2d\",\"colorbar\":{\"outlinewidth\":0,\"ticks\":\"\"},\"colorscale\":[[0.0,\"#0d0887\"],[0.1111111111111111,\"#46039f\"],[0.2222222222222222,\"#7201a8\"],[0.3333333333333333,\"#9c179e\"],[0.4444444444444444,\"#bd3786\"],[0.5555555555555556,\"#d8576b\"],[0.6666666666666666,\"#ed7953\"],[0.7777777777777778,\"#fb9f3a\"],[0.8888888888888888,\"#fdca26\"],[1.0,\"#f0f921\"]]}],\"heatmap\":[{\"type\":\"heatmap\",\"colorbar\":{\"outlinewidth\":0,\"ticks\":\"\"},\"colorscale\":[[0.0,\"#0d0887\"],[0.1111111111111111,\"#46039f\"],[0.2222222222222222,\"#7201a8\"],[0.3333333333333333,\"#9c179e\"],[0.4444444444444444,\"#bd3786\"],[0.5555555555555556,\"#d8576b\"],[0.6666666666666666,\"#ed7953\"],[0.7777777777777778,\"#fb9f3a\"],[0.8888888888888888,\"#fdca26\"],[1.0,\"#f0f921\"]]}],\"heatmapgl\":[{\"type\":\"heatmapgl\",\"colorbar\":{\"outlinewidth\":0,\"ticks\":\"\"},\"colorscale\":[[0.0,\"#0d0887\"],[0.1111111111111111,\"#46039f\"],[0.2222222222222222,\"#7201a8\"],[0.3333333333333333,\"#9c179e\"],[0.4444444444444444,\"#bd3786\"],[0.5555555555555556,\"#d8576b\"],[0.6666666666666666,\"#ed7953\"],[0.7777777777777778,\"#fb9f3a\"],[0.8888888888888888,\"#fdca26\"],[1.0,\"#f0f921\"]]}],\"contourcarpet\":[{\"type\":\"contourcarpet\",\"colorbar\":{\"outlinewidth\":0,\"ticks\":\"\"}}],\"contour\":[{\"type\":\"contour\",\"colorbar\":{\"outlinewidth\":0,\"ticks\":\"\"},\"colorscale\":[[0.0,\"#0d0887\"],[0.1111111111111111,\"#46039f\"],[0.2222222222222222,\"#7201a8\"],[0.3333333333333333,\"#9c179e\"],[0.4444444444444444,\"#bd3786\"],[0.5555555555555556,\"#d8576b\"],[0.6666666666666666,\"#ed7953\"],[0.7777777777777778,\"#fb9f3a\"],[0.8888888888888888,\"#fdca26\"],[1.0,\"#f0f921\"]]}],\"surface\":[{\"type\":\"surface\",\"colorbar\":{\"outlinewidth\":0,\"ticks\":\"\"},\"colorscale\":[[0.0,\"#0d0887\"],[0.1111111111111111,\"#46039f\"],[0.2222222222222222,\"#7201a8\"],[0.3333333333333333,\"#9c179e\"],[0.4444444444444444,\"#bd3786\"],[0.5555555555555556,\"#d8576b\"],[0.6666666666666666,\"#ed7953\"],[0.7777777777777778,\"#fb9f3a\"],[0.8888888888888888,\"#fdca26\"],[1.0,\"#f0f921\"]]}],\"mesh3d\":[{\"type\":\"mesh3d\",\"colorbar\":{\"outlinewidth\":0,\"ticks\":\"\"}}],\"scatter\":[{\"fillpattern\":{\"fillmode\":\"overlay\",\"size\":10,\"solidity\":0.2},\"type\":\"scatter\"}],\"parcoords\":[{\"type\":\"parcoords\",\"line\":{\"colorbar\":{\"outlinewidth\":0,\"ticks\":\"\"}}}],\"scatterpolargl\":[{\"type\":\"scatterpolargl\",\"marker\":{\"colorbar\":{\"outlinewidth\":0,\"ticks\":\"\"}}}],\"bar\":[{\"error_x\":{\"color\":\"#2a3f5f\"},\"error_y\":{\"color\":\"#2a3f5f\"},\"marker\":{\"line\":{\"color\":\"#E5ECF6\",\"width\":0.5},\"pattern\":{\"fillmode\":\"overlay\",\"size\":10,\"solidity\":0.2}},\"type\":\"bar\"}],\"scattergeo\":[{\"type\":\"scattergeo\",\"marker\":{\"colorbar\":{\"outlinewidth\":0,\"ticks\":\"\"}}}],\"scatterpolar\":[{\"type\":\"scatterpolar\",\"marker\":{\"colorbar\":{\"outlinewidth\":0,\"ticks\":\"\"}}}],\"histogram\":[{\"marker\":{\"pattern\":{\"fillmode\":\"overlay\",\"size\":10,\"solidity\":0.2}},\"type\":\"histogram\"}],\"scattergl\":[{\"type\":\"scattergl\",\"marker\":{\"colorbar\":{\"outlinewidth\":0,\"ticks\":\"\"}}}],\"scatter3d\":[{\"type\":\"scatter3d\",\"line\":{\"colorbar\":{\"outlinewidth\":0,\"ticks\":\"\"}},\"marker\":{\"colorbar\":{\"outlinewidth\":0,\"ticks\":\"\"}}}],\"scattermapbox\":[{\"type\":\"scattermapbox\",\"marker\":{\"colorbar\":{\"outlinewidth\":0,\"ticks\":\"\"}}}],\"scatterternary\":[{\"type\":\"scatterternary\",\"marker\":{\"colorbar\":{\"outlinewidth\":0,\"ticks\":\"\"}}}],\"scattercarpet\":[{\"type\":\"scattercarpet\",\"marker\":{\"colorbar\":{\"outlinewidth\":0,\"ticks\":\"\"}}}],\"carpet\":[{\"aaxis\":{\"endlinecolor\":\"#2a3f5f\",\"gridcolor\":\"white\",\"linecolor\":\"white\",\"minorgridcolor\":\"white\",\"startlinecolor\":\"#2a3f5f\"},\"baxis\":{\"endlinecolor\":\"#2a3f5f\",\"gridcolor\":\"white\",\"linecolor\":\"white\",\"minorgridcolor\":\"white\",\"startlinecolor\":\"#2a3f5f\"},\"type\":\"carpet\"}],\"table\":[{\"cells\":{\"fill\":{\"color\":\"#EBF0F8\"},\"line\":{\"color\":\"white\"}},\"header\":{\"fill\":{\"color\":\"#C8D4E3\"},\"line\":{\"color\":\"white\"}},\"type\":\"table\"}],\"barpolar\":[{\"marker\":{\"line\":{\"color\":\"#E5ECF6\",\"width\":0.5},\"pattern\":{\"fillmode\":\"overlay\",\"size\":10,\"solidity\":0.2}},\"type\":\"barpolar\"}],\"pie\":[{\"automargin\":true,\"type\":\"pie\"}]},\"layout\":{\"autotypenumbers\":\"strict\",\"colorway\":[\"#636efa\",\"#EF553B\",\"#00cc96\",\"#ab63fa\",\"#FFA15A\",\"#19d3f3\",\"#FF6692\",\"#B6E880\",\"#FF97FF\",\"#FECB52\"],\"font\":{\"color\":\"#2a3f5f\"},\"hovermode\":\"closest\",\"hoverlabel\":{\"align\":\"left\"},\"paper_bgcolor\":\"white\",\"plot_bgcolor\":\"#E5ECF6\",\"polar\":{\"bgcolor\":\"#E5ECF6\",\"angularaxis\":{\"gridcolor\":\"white\",\"linecolor\":\"white\",\"ticks\":\"\"},\"radialaxis\":{\"gridcolor\":\"white\",\"linecolor\":\"white\",\"ticks\":\"\"}},\"ternary\":{\"bgcolor\":\"#E5ECF6\",\"aaxis\":{\"gridcolor\":\"white\",\"linecolor\":\"white\",\"ticks\":\"\"},\"baxis\":{\"gridcolor\":\"white\",\"linecolor\":\"white\",\"ticks\":\"\"},\"caxis\":{\"gridcolor\":\"white\",\"linecolor\":\"white\",\"ticks\":\"\"}},\"coloraxis\":{\"colorbar\":{\"outlinewidth\":0,\"ticks\":\"\"}},\"colorscale\":{\"sequential\":[[0.0,\"#0d0887\"],[0.1111111111111111,\"#46039f\"],[0.2222222222222222,\"#7201a8\"],[0.3333333333333333,\"#9c179e\"],[0.4444444444444444,\"#bd3786\"],[0.5555555555555556,\"#d8576b\"],[0.6666666666666666,\"#ed7953\"],[0.7777777777777778,\"#fb9f3a\"],[0.8888888888888888,\"#fdca26\"],[1.0,\"#f0f921\"]],\"sequentialminus\":[[0.0,\"#0d0887\"],[0.1111111111111111,\"#46039f\"],[0.2222222222222222,\"#7201a8\"],[0.3333333333333333,\"#9c179e\"],[0.4444444444444444,\"#bd3786\"],[0.5555555555555556,\"#d8576b\"],[0.6666666666666666,\"#ed7953\"],[0.7777777777777778,\"#fb9f3a\"],[0.8888888888888888,\"#fdca26\"],[1.0,\"#f0f921\"]],\"diverging\":[[0,\"#8e0152\"],[0.1,\"#c51b7d\"],[0.2,\"#de77ae\"],[0.3,\"#f1b6da\"],[0.4,\"#fde0ef\"],[0.5,\"#f7f7f7\"],[0.6,\"#e6f5d0\"],[0.7,\"#b8e186\"],[0.8,\"#7fbc41\"],[0.9,\"#4d9221\"],[1,\"#276419\"]]},\"xaxis\":{\"gridcolor\":\"white\",\"linecolor\":\"white\",\"ticks\":\"\",\"title\":{\"standoff\":15},\"zerolinecolor\":\"white\",\"automargin\":true,\"zerolinewidth\":2},\"yaxis\":{\"gridcolor\":\"white\",\"linecolor\":\"white\",\"ticks\":\"\",\"title\":{\"standoff\":15},\"zerolinecolor\":\"white\",\"automargin\":true,\"zerolinewidth\":2},\"scene\":{\"xaxis\":{\"backgroundcolor\":\"#E5ECF6\",\"gridcolor\":\"white\",\"linecolor\":\"white\",\"showbackground\":true,\"ticks\":\"\",\"zerolinecolor\":\"white\",\"gridwidth\":2},\"yaxis\":{\"backgroundcolor\":\"#E5ECF6\",\"gridcolor\":\"white\",\"linecolor\":\"white\",\"showbackground\":true,\"ticks\":\"\",\"zerolinecolor\":\"white\",\"gridwidth\":2},\"zaxis\":{\"backgroundcolor\":\"#E5ECF6\",\"gridcolor\":\"white\",\"linecolor\":\"white\",\"showbackground\":true,\"ticks\":\"\",\"zerolinecolor\":\"white\",\"gridwidth\":2}},\"shapedefaults\":{\"line\":{\"color\":\"#2a3f5f\"}},\"annotationdefaults\":{\"arrowcolor\":\"#2a3f5f\",\"arrowhead\":0,\"arrowwidth\":1},\"geo\":{\"bgcolor\":\"white\",\"landcolor\":\"#E5ECF6\",\"subunitcolor\":\"white\",\"showland\":true,\"showlakes\":true,\"lakecolor\":\"white\"},\"title\":{\"x\":0.05},\"mapbox\":{\"style\":\"light\"}}},\"xaxis\":{\"anchor\":\"y\",\"domain\":[0.0,1.0],\"title\":{\"text\":\"Method\"},\"mirror\":true,\"ticks\":\"outside\",\"showline\":true,\"linecolor\":\"black\",\"gridcolor\":\"lightgrey\",\"categoryorder\":\"array\",\"categoryarray\":[\"ALITE\",\"Starmie-PT\",\"Starmie-FT\",\"DeepJoin\",\"ValenTwin\"]},\"yaxis\":{\"anchor\":\"x\",\"domain\":[0.0,1.0],\"title\":{\"text\":\"Recall@k\"},\"mirror\":true,\"ticks\":\"outside\",\"tickformat\":\".2f\",\"showline\":true,\"linecolor\":\"black\",\"gridcolor\":\"lightgrey\"},\"legend\":{\"title\":{\"text\":\"PLM\"},\"tracegroupgap\":0,\"orientation\":\"h\",\"yanchor\":\"bottom\",\"y\":1.02,\"xanchor\":\"right\",\"x\":0.75},\"margin\":{\"t\":0,\"l\":0,\"r\":0,\"b\":0},\"boxmode\":\"group\",\"height\":400,\"width\":600,\"font\":{\"family\":\"Times Roman\",\"color\":\"black\",\"size\":16},\"plot_bgcolor\":\"white\"},                        {\"responsive\": true}                    ).then(function(){\n                            \nvar gd = document.getElementById('fc85ab74-1a19-44ea-a83d-49a0d7bbdde9');\nvar x = new MutationObserver(function (mutations, observer) {{\n        var display = window.getComputedStyle(gd).display;\n        if (!display || display === 'none') {{\n            console.log([gd, 'removed!']);\n            Plotly.purge(gd);\n            observer.disconnect();\n        }}\n}});\n\n// Listen for the removal of the full notebook cells\nvar notebookContainer = gd.closest('#notebook-container');\nif (notebookContainer) {{\n    x.observe(notebookContainer, {childList: true});\n}}\n\n// Listen for the clearing of the current output cell\nvar outputEl = gd.closest('.output');\nif (outputEl) {{\n    x.observe(outputEl, {childList: true});\n}}\n\n                        })                };                });            </script>        </div>"
     },
     "metadata": {},
     "output_type": "display_data"
    }
   ],
   "source": [
    "fig = px.box(concatenated_df, x=\"method\", y=\"recall_at_sizeof_ground_truth\", color=\"plm\",\n",
    "             labels={\"method\": \"Method\", \"plm\": \"PLM\", \"recall_at_sizeof_ground_truth\": \"Recall@k\"},\n",
    "             height=400, width=600)\n",
    "fig.update_layout(\n",
    "    font_family=\"Times Roman\",\n",
    "    font_color=\"black\",\n",
    "    font_size=16,\n",
    "    plot_bgcolor='white',\n",
    "    legend=dict(orientation=\"h\",yanchor=\"bottom\",\n",
    "    y=1.02,\n",
    "    xanchor=\"right\",\n",
    "    x=0.75),\n",
    "    margin = {'l':0,'r':0,'t':0,'b':0},\n",
    ")\n",
    "fig.update_xaxes(\n",
    "    mirror=True,\n",
    "    ticks='outside',\n",
    "    showline=True,\n",
    "    linecolor='black',\n",
    "    gridcolor='lightgrey'\n",
    ")\n",
    "fig.update_yaxes(\n",
    "    mirror=True,\n",
    "    ticks='outside',\n",
    "    tickformat=\".2f\",\n",
    "    showline=True,\n",
    "    linecolor='black',\n",
    "    gridcolor='lightgrey'\n",
    ")\n",
    "fig.update_traces(boxmean=True)\n",
    "fig.update_xaxes(categoryorder='array', categoryarray= ['ALITE', 'Starmie-PT', 'Starmie-FT', 'DeepJoin', 'ValenTwin'])\n",
    "\n",
    "fig.show()\n"
   ],
   "metadata": {
    "collapsed": false,
    "ExecuteTime": {
     "start_time": "2024-06-01T13:44:32.312861Z",
     "end_time": "2024-06-01T13:44:32.357374Z"
    }
   }
  },
  {
   "cell_type": "code",
   "execution_count": null,
   "outputs": [],
   "source": [],
   "metadata": {
    "collapsed": false
   }
  }
 ],
 "metadata": {
  "kernelspec": {
   "display_name": "Python 3",
   "language": "python",
   "name": "python3"
  },
  "language_info": {
   "codemirror_mode": {
    "name": "ipython",
    "version": 2
   },
   "file_extension": ".py",
   "mimetype": "text/x-python",
   "name": "python",
   "nbconvert_exporter": "python",
   "pygments_lexer": "ipython2",
   "version": "2.7.6"
  }
 },
 "nbformat": 4,
 "nbformat_minor": 0
}
