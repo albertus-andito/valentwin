{
 "cells": [
  {
   "cell_type": "code",
   "execution_count": 8,
   "metadata": {
    "collapsed": true,
    "ExecuteTime": {
     "start_time": "2024-06-01T18:30:30.670972Z",
     "end_time": "2024-06-01T18:30:30.701973Z"
    }
   },
   "outputs": [],
   "source": [
    "import pandas as pd\n",
    "import plotly.express as px\n",
    "import os\n",
    "import re"
   ]
  },
  {
   "cell_type": "code",
   "execution_count": 2,
   "outputs": [],
   "source": [
    "root_dir = \"./results/\"\n",
    "dataset_names = os.listdir(root_dir)\n",
    "metrics_fpaths = [os.path.join(root_dir, dataset_dir, \"metrics/100.csv\") for dataset_dir in dataset_names]\n"
   ],
   "metadata": {
    "collapsed": false,
    "ExecuteTime": {
     "start_time": "2024-06-01T18:25:48.045355Z",
     "end_time": "2024-06-01T18:25:48.047488Z"
    }
   }
  },
  {
   "cell_type": "code",
   "execution_count": 21,
   "outputs": [
    {
     "name": "stderr",
     "output_type": "stream",
     "text": [
      "/var/folders/p3/fmhxg5dj6456rd03plthtvvr000pp_/T/ipykernel_78049/45031293.py:11: FutureWarning:\n",
      "\n",
      "DataFrame.groupby with axis=1 is deprecated. Do `frame.T.groupby(...)` without axis instead.\n",
      "\n"
     ]
    },
    {
     "data": {
      "text/plain": "                                                    recall_at_sizeof_ground_truth  \\\nvalentwin-x-n-100-hn-10-selective-neg-lr-3e5-bs...                       0.788180   \nvalentwin-x-n-100-hn-10-selective-neg-lr-3e5-bs...                       0.788180   \nvalentwin-x-n-100-hn-10-selective-neg-lr-3e5-bs...                       0.795839   \nvalentwin-x-n-100-hn-10-selective-neg-lr-3e5-bs...                       0.803042   \nvalentwin-x-n-100-hn-10-selective-neg-lr-3e5-bs...                       0.798301   \n...                                                                           ...   \nvalentwin-x-n-100-hn-10-selective-neg-lr-3e5-bs...                       0.655007   \nvalentwin-x-n-100-hn-10-selective-neg-lr-3e5-bs...                       0.605260   \nvalentwin-x-n-100-hn-10-selective-neg-lr-3e5-bs...                       0.595042   \nvalentwin-x-n-100-hn-10-selective-neg-lr-3e5-bs...                       0.536235   \nvalentwin-x-n-100-hn-10-selective-neg-lr-3e5-bs...                       0.536235   \n\n                                                    column_name_weight  \\\nvalentwin-x-n-100-hn-10-selective-neg-lr-3e5-bs...                 0.0   \nvalentwin-x-n-100-hn-10-selective-neg-lr-3e5-bs...                 0.0   \nvalentwin-x-n-100-hn-10-selective-neg-lr-3e5-bs...                 0.1   \nvalentwin-x-n-100-hn-10-selective-neg-lr-3e5-bs...                 0.1   \nvalentwin-x-n-100-hn-10-selective-neg-lr-3e5-bs...                 0.2   \n...                                                                ...   \nvalentwin-x-n-100-hn-10-selective-neg-lr-3e5-bs...                 0.8   \nvalentwin-x-n-100-hn-10-selective-neg-lr-3e5-bs...                 0.9   \nvalentwin-x-n-100-hn-10-selective-neg-lr-3e5-bs...                 0.9   \nvalentwin-x-n-100-hn-10-selective-neg-lr-3e5-bs...                 1.0   \nvalentwin-x-n-100-hn-10-selective-neg-lr-3e5-bs...                 1.0   \n\n                                                   sim_measure  \\\nvalentwin-x-n-100-hn-10-selective-neg-lr-3e5-bs...         cos   \nvalentwin-x-n-100-hn-10-selective-neg-lr-3e5-bs...         cos   \nvalentwin-x-n-100-hn-10-selective-neg-lr-3e5-bs...         cos   \nvalentwin-x-n-100-hn-10-selective-neg-lr-3e5-bs...         cos   \nvalentwin-x-n-100-hn-10-selective-neg-lr-3e5-bs...         cos   \n...                                                        ...   \nvalentwin-x-n-100-hn-10-selective-neg-lr-3e5-bs...         euc   \nvalentwin-x-n-100-hn-10-selective-neg-lr-3e5-bs...         euc   \nvalentwin-x-n-100-hn-10-selective-neg-lr-3e5-bs...         euc   \nvalentwin-x-n-100-hn-10-selective-neg-lr-3e5-bs...         euc   \nvalentwin-x-n-100-hn-10-selective-neg-lr-3e5-bs...         euc   \n\n                                                   column_name_sim_measure  \\\nvalentwin-x-n-100-hn-10-selective-neg-lr-3e5-bs...                     cos   \nvalentwin-x-n-100-hn-10-selective-neg-lr-3e5-bs...                     euc   \nvalentwin-x-n-100-hn-10-selective-neg-lr-3e5-bs...                     cos   \nvalentwin-x-n-100-hn-10-selective-neg-lr-3e5-bs...                     euc   \nvalentwin-x-n-100-hn-10-selective-neg-lr-3e5-bs...                     cos   \n...                                                                    ...   \nvalentwin-x-n-100-hn-10-selective-neg-lr-3e5-bs...                     euc   \nvalentwin-x-n-100-hn-10-selective-neg-lr-3e5-bs...                     cos   \nvalentwin-x-n-100-hn-10-selective-neg-lr-3e5-bs...                     euc   \nvalentwin-x-n-100-hn-10-selective-neg-lr-3e5-bs...                     cos   \nvalentwin-x-n-100-hn-10-selective-neg-lr-3e5-bs...                     euc   \n\n                                                   combined_sim_measure  \nvalentwin-x-n-100-hn-10-selective-neg-lr-3e5-bs...              cos-cos  \nvalentwin-x-n-100-hn-10-selective-neg-lr-3e5-bs...              cos-euc  \nvalentwin-x-n-100-hn-10-selective-neg-lr-3e5-bs...              cos-cos  \nvalentwin-x-n-100-hn-10-selective-neg-lr-3e5-bs...              cos-euc  \nvalentwin-x-n-100-hn-10-selective-neg-lr-3e5-bs...              cos-cos  \n...                                                                 ...  \nvalentwin-x-n-100-hn-10-selective-neg-lr-3e5-bs...              euc-euc  \nvalentwin-x-n-100-hn-10-selective-neg-lr-3e5-bs...              euc-cos  \nvalentwin-x-n-100-hn-10-selective-neg-lr-3e5-bs...              euc-euc  \nvalentwin-x-n-100-hn-10-selective-neg-lr-3e5-bs...              euc-cos  \nvalentwin-x-n-100-hn-10-selective-neg-lr-3e5-bs...              euc-euc  \n\n[66 rows x 5 columns]",
      "text/html": "<div>\n<style scoped>\n    .dataframe tbody tr th:only-of-type {\n        vertical-align: middle;\n    }\n\n    .dataframe tbody tr th {\n        vertical-align: top;\n    }\n\n    .dataframe thead th {\n        text-align: right;\n    }\n</style>\n<table border=\"1\" class=\"dataframe\">\n  <thead>\n    <tr style=\"text-align: right;\">\n      <th></th>\n      <th>recall_at_sizeof_ground_truth</th>\n      <th>column_name_weight</th>\n      <th>sim_measure</th>\n      <th>column_name_sim_measure</th>\n      <th>combined_sim_measure</th>\n    </tr>\n  </thead>\n  <tbody>\n    <tr>\n      <th>valentwin-x-n-100-hn-10-selective-neg-lr-3e5-bs-512-cos-cnw-00-cos</th>\n      <td>0.788180</td>\n      <td>0.0</td>\n      <td>cos</td>\n      <td>cos</td>\n      <td>cos-cos</td>\n    </tr>\n    <tr>\n      <th>valentwin-x-n-100-hn-10-selective-neg-lr-3e5-bs-512-cos-cnw-00-euc</th>\n      <td>0.788180</td>\n      <td>0.0</td>\n      <td>cos</td>\n      <td>euc</td>\n      <td>cos-euc</td>\n    </tr>\n    <tr>\n      <th>valentwin-x-n-100-hn-10-selective-neg-lr-3e5-bs-512-cos-cnw-01-cos</th>\n      <td>0.795839</td>\n      <td>0.1</td>\n      <td>cos</td>\n      <td>cos</td>\n      <td>cos-cos</td>\n    </tr>\n    <tr>\n      <th>valentwin-x-n-100-hn-10-selective-neg-lr-3e5-bs-512-cos-cnw-01-euc</th>\n      <td>0.803042</td>\n      <td>0.1</td>\n      <td>cos</td>\n      <td>euc</td>\n      <td>cos-euc</td>\n    </tr>\n    <tr>\n      <th>valentwin-x-n-100-hn-10-selective-neg-lr-3e5-bs-512-cos-cnw-02-cos</th>\n      <td>0.798301</td>\n      <td>0.2</td>\n      <td>cos</td>\n      <td>cos</td>\n      <td>cos-cos</td>\n    </tr>\n    <tr>\n      <th>...</th>\n      <td>...</td>\n      <td>...</td>\n      <td>...</td>\n      <td>...</td>\n      <td>...</td>\n    </tr>\n    <tr>\n      <th>valentwin-x-n-100-hn-10-selective-neg-lr-3e5-bs-512-euc-cnw-08-euc</th>\n      <td>0.655007</td>\n      <td>0.8</td>\n      <td>euc</td>\n      <td>euc</td>\n      <td>euc-euc</td>\n    </tr>\n    <tr>\n      <th>valentwin-x-n-100-hn-10-selective-neg-lr-3e5-bs-512-euc-cnw-09-cos</th>\n      <td>0.605260</td>\n      <td>0.9</td>\n      <td>euc</td>\n      <td>cos</td>\n      <td>euc-cos</td>\n    </tr>\n    <tr>\n      <th>valentwin-x-n-100-hn-10-selective-neg-lr-3e5-bs-512-euc-cnw-09-euc</th>\n      <td>0.595042</td>\n      <td>0.9</td>\n      <td>euc</td>\n      <td>euc</td>\n      <td>euc-euc</td>\n    </tr>\n    <tr>\n      <th>valentwin-x-n-100-hn-10-selective-neg-lr-3e5-bs-512-euc-cnw-10-cos</th>\n      <td>0.536235</td>\n      <td>1.0</td>\n      <td>euc</td>\n      <td>cos</td>\n      <td>euc-cos</td>\n    </tr>\n    <tr>\n      <th>valentwin-x-n-100-hn-10-selective-neg-lr-3e5-bs-512-euc-cnw-10-euc</th>\n      <td>0.536235</td>\n      <td>1.0</td>\n      <td>euc</td>\n      <td>euc</td>\n      <td>euc-euc</td>\n    </tr>\n  </tbody>\n</table>\n<p>66 rows × 5 columns</p>\n</div>"
     },
     "execution_count": 21,
     "metadata": {},
     "output_type": "execute_result"
    }
   ],
   "source": [
    "dfs = {}\n",
    "for dataset_name, fpath in zip(dataset_names, metrics_fpaths):\n",
    "    df = pd.read_csv(fpath, index_col=0)\n",
    "    df.index = df.index.map(lambda x: re.sub(r'valentwin-.*?-n-', 'valentwin-x-n-', x))\n",
    "    df = df[[\"recall_at_sizeof_ground_truth\"]]\n",
    "    df.columns = pd.MultiIndex.from_product([[dataset_name], df.columns])\n",
    "    dfs[dataset_name] = df\n",
    "\n",
    "concatenated_df = pd.concat(dfs.values(), axis=1)\n",
    "\n",
    "average_df = concatenated_df.groupby(level=1, axis=1).mean()\n",
    "average_df[\"column_name_weight\"] = average_df.index.to_series().str.extract('cnw-([^-]*)').astype(int)/10\n",
    "average_df[\"sim_measure\"] = average_df.index.to_series().str.extract('bs-[^-]*-([^-]*)-')\n",
    "average_df[\"column_name_sim_measure\"] = average_df.index.to_series().str.extract(r'cnw-\\d{2}-(\\w+)(?:-|$)')\n",
    "average_df[\"column_name_sim_measure\"].fillna(average_df[\"sim_measure\"], inplace=True)\n",
    "average_df[\"combined_sim_measure\"] = average_df[\"sim_measure\"]+\"-\"+average_df[\"column_name_sim_measure\"]\n",
    "\n",
    "average_df"
   ],
   "metadata": {
    "collapsed": false,
    "ExecuteTime": {
     "start_time": "2024-06-01T18:54:05.771323Z",
     "end_time": "2024-06-01T18:54:05.827486Z"
    }
   }
  },
  {
   "cell_type": "code",
   "execution_count": 23,
   "outputs": [
    {
     "data": {
      "application/vnd.plotly.v1+json": {
       "data": [
        {
         "hovertemplate": "Values - Name Sim Measure=cos-cos<br>Column Name Weight=%{x}<br>Recall@k=%{y}<extra></extra>",
         "legendgroup": "cos-cos",
         "line": {
          "color": "#636efa",
          "dash": "solid"
         },
         "marker": {
          "symbol": "circle",
          "size": 20
         },
         "mode": "lines+markers",
         "name": "cos-cos",
         "orientation": "v",
         "showlegend": true,
         "x": [
          0.0,
          0.1,
          0.2,
          0.3,
          0.4,
          0.5,
          0.6
         ],
         "xaxis": "x",
         "y": [
          0.7881798241911132,
          0.7958392441624776,
          0.7983011649817475,
          0.8028600737370442,
          0.7923870725099099,
          0.7909934545263565,
          0.7779708498655343
         ],
         "yaxis": "y",
         "type": "scatter"
        },
        {
         "hovertemplate": "Values - Name Sim Measure=cos-euc<br>Column Name Weight=%{x}<br>Recall@k=%{y}<extra></extra>",
         "legendgroup": "cos-euc",
         "line": {
          "color": "#EF553B",
          "dash": "solid"
         },
         "marker": {
          "symbol": "square",
          "size": 20
         },
         "mode": "lines+markers",
         "name": "cos-euc",
         "orientation": "v",
         "showlegend": true,
         "x": [
          0.0,
          0.1,
          0.2,
          0.3,
          0.4,
          0.5,
          0.6
         ],
         "xaxis": "x",
         "y": [
          0.7881798241911132,
          0.8030420064028375,
          0.807870661768395,
          0.8063143650969317,
          0.8036047727219621,
          0.8035430284702099,
          0.7860983191947455
         ],
         "yaxis": "y",
         "type": "scatter"
        },
        {
         "hovertemplate": "Values - Name Sim Measure=emd-cos<br>Column Name Weight=%{x}<br>Recall@k=%{y}<extra></extra>",
         "legendgroup": "emd-cos",
         "line": {
          "color": "#00cc96",
          "dash": "solid"
         },
         "marker": {
          "symbol": "diamond",
          "size": 20
         },
         "mode": "lines+markers",
         "name": "emd-cos",
         "orientation": "v",
         "showlegend": true,
         "x": [
          0.0,
          0.1,
          0.2,
          0.3,
          0.4,
          0.5,
          0.6
         ],
         "xaxis": "x",
         "y": [
          0.7938707475202488,
          0.8010808847138114,
          0.8088558283754389,
          0.8144146434059675,
          0.815692744449329,
          0.8043632470135703,
          0.7737705477410636
         ],
         "yaxis": "y",
         "type": "scatter"
        },
        {
         "hovertemplate": "Values - Name Sim Measure=emd-euc<br>Column Name Weight=%{x}<br>Recall@k=%{y}<extra></extra>",
         "legendgroup": "emd-euc",
         "line": {
          "color": "#ab63fa",
          "dash": "solid"
         },
         "marker": {
          "symbol": "cross",
          "size": 20
         },
         "mode": "lines+markers",
         "name": "emd-euc",
         "orientation": "v",
         "showlegend": true,
         "x": [
          0.0,
          0.1,
          0.2,
          0.3,
          0.4,
          0.5,
          0.6
         ],
         "xaxis": "x",
         "y": [
          0.7938707475202488,
          0.8072109261847696,
          0.8153831680672159,
          0.8219437220814074,
          0.823089933941969,
          0.8114849275225784,
          0.7932027632598481
         ],
         "yaxis": "y",
         "type": "scatter"
        },
        {
         "hovertemplate": "Values - Name Sim Measure=euc-cos<br>Column Name Weight=%{x}<br>Recall@k=%{y}<extra></extra>",
         "legendgroup": "euc-cos",
         "line": {
          "color": "#FFA15A",
          "dash": "solid"
         },
         "marker": {
          "symbol": "x",
          "size": 20
         },
         "mode": "lines+markers",
         "name": "euc-cos",
         "orientation": "v",
         "showlegend": true,
         "x": [
          0.0,
          0.1,
          0.2,
          0.3,
          0.4,
          0.5,
          0.6
         ],
         "xaxis": "x",
         "y": [
          0.7861703203453284,
          0.7949482277884639,
          0.8050164962811099,
          0.8124387421293137,
          0.819138599339395,
          0.8129436523751166,
          0.7917199027149665
         ],
         "yaxis": "y",
         "type": "scatter"
        },
        {
         "hovertemplate": "Values - Name Sim Measure=euc-euc<br>Column Name Weight=%{x}<br>Recall@k=%{y}<extra></extra>",
         "legendgroup": "euc-euc",
         "line": {
          "color": "#19d3f3",
          "dash": "solid"
         },
         "marker": {
          "symbol": "triangle-up",
          "size": 20
         },
         "mode": "lines+markers",
         "name": "euc-euc",
         "orientation": "v",
         "showlegend": true,
         "x": [
          0.0,
          0.1,
          0.2,
          0.3,
          0.4,
          0.5,
          0.6
         ],
         "xaxis": "x",
         "y": [
          0.7861703203453284,
          0.7985180583713227,
          0.8157060148267564,
          0.8242219896376768,
          0.833710999126119,
          0.8232811607471837,
          0.7981613011749434
         ],
         "yaxis": "y",
         "type": "scatter"
        }
       ],
       "layout": {
        "template": {
         "data": {
          "histogram2dcontour": [
           {
            "type": "histogram2dcontour",
            "colorbar": {
             "outlinewidth": 0,
             "ticks": ""
            },
            "colorscale": [
             [
              0.0,
              "#0d0887"
             ],
             [
              0.1111111111111111,
              "#46039f"
             ],
             [
              0.2222222222222222,
              "#7201a8"
             ],
             [
              0.3333333333333333,
              "#9c179e"
             ],
             [
              0.4444444444444444,
              "#bd3786"
             ],
             [
              0.5555555555555556,
              "#d8576b"
             ],
             [
              0.6666666666666666,
              "#ed7953"
             ],
             [
              0.7777777777777778,
              "#fb9f3a"
             ],
             [
              0.8888888888888888,
              "#fdca26"
             ],
             [
              1.0,
              "#f0f921"
             ]
            ]
           }
          ],
          "choropleth": [
           {
            "type": "choropleth",
            "colorbar": {
             "outlinewidth": 0,
             "ticks": ""
            }
           }
          ],
          "histogram2d": [
           {
            "type": "histogram2d",
            "colorbar": {
             "outlinewidth": 0,
             "ticks": ""
            },
            "colorscale": [
             [
              0.0,
              "#0d0887"
             ],
             [
              0.1111111111111111,
              "#46039f"
             ],
             [
              0.2222222222222222,
              "#7201a8"
             ],
             [
              0.3333333333333333,
              "#9c179e"
             ],
             [
              0.4444444444444444,
              "#bd3786"
             ],
             [
              0.5555555555555556,
              "#d8576b"
             ],
             [
              0.6666666666666666,
              "#ed7953"
             ],
             [
              0.7777777777777778,
              "#fb9f3a"
             ],
             [
              0.8888888888888888,
              "#fdca26"
             ],
             [
              1.0,
              "#f0f921"
             ]
            ]
           }
          ],
          "heatmap": [
           {
            "type": "heatmap",
            "colorbar": {
             "outlinewidth": 0,
             "ticks": ""
            },
            "colorscale": [
             [
              0.0,
              "#0d0887"
             ],
             [
              0.1111111111111111,
              "#46039f"
             ],
             [
              0.2222222222222222,
              "#7201a8"
             ],
             [
              0.3333333333333333,
              "#9c179e"
             ],
             [
              0.4444444444444444,
              "#bd3786"
             ],
             [
              0.5555555555555556,
              "#d8576b"
             ],
             [
              0.6666666666666666,
              "#ed7953"
             ],
             [
              0.7777777777777778,
              "#fb9f3a"
             ],
             [
              0.8888888888888888,
              "#fdca26"
             ],
             [
              1.0,
              "#f0f921"
             ]
            ]
           }
          ],
          "heatmapgl": [
           {
            "type": "heatmapgl",
            "colorbar": {
             "outlinewidth": 0,
             "ticks": ""
            },
            "colorscale": [
             [
              0.0,
              "#0d0887"
             ],
             [
              0.1111111111111111,
              "#46039f"
             ],
             [
              0.2222222222222222,
              "#7201a8"
             ],
             [
              0.3333333333333333,
              "#9c179e"
             ],
             [
              0.4444444444444444,
              "#bd3786"
             ],
             [
              0.5555555555555556,
              "#d8576b"
             ],
             [
              0.6666666666666666,
              "#ed7953"
             ],
             [
              0.7777777777777778,
              "#fb9f3a"
             ],
             [
              0.8888888888888888,
              "#fdca26"
             ],
             [
              1.0,
              "#f0f921"
             ]
            ]
           }
          ],
          "contourcarpet": [
           {
            "type": "contourcarpet",
            "colorbar": {
             "outlinewidth": 0,
             "ticks": ""
            }
           }
          ],
          "contour": [
           {
            "type": "contour",
            "colorbar": {
             "outlinewidth": 0,
             "ticks": ""
            },
            "colorscale": [
             [
              0.0,
              "#0d0887"
             ],
             [
              0.1111111111111111,
              "#46039f"
             ],
             [
              0.2222222222222222,
              "#7201a8"
             ],
             [
              0.3333333333333333,
              "#9c179e"
             ],
             [
              0.4444444444444444,
              "#bd3786"
             ],
             [
              0.5555555555555556,
              "#d8576b"
             ],
             [
              0.6666666666666666,
              "#ed7953"
             ],
             [
              0.7777777777777778,
              "#fb9f3a"
             ],
             [
              0.8888888888888888,
              "#fdca26"
             ],
             [
              1.0,
              "#f0f921"
             ]
            ]
           }
          ],
          "surface": [
           {
            "type": "surface",
            "colorbar": {
             "outlinewidth": 0,
             "ticks": ""
            },
            "colorscale": [
             [
              0.0,
              "#0d0887"
             ],
             [
              0.1111111111111111,
              "#46039f"
             ],
             [
              0.2222222222222222,
              "#7201a8"
             ],
             [
              0.3333333333333333,
              "#9c179e"
             ],
             [
              0.4444444444444444,
              "#bd3786"
             ],
             [
              0.5555555555555556,
              "#d8576b"
             ],
             [
              0.6666666666666666,
              "#ed7953"
             ],
             [
              0.7777777777777778,
              "#fb9f3a"
             ],
             [
              0.8888888888888888,
              "#fdca26"
             ],
             [
              1.0,
              "#f0f921"
             ]
            ]
           }
          ],
          "mesh3d": [
           {
            "type": "mesh3d",
            "colorbar": {
             "outlinewidth": 0,
             "ticks": ""
            }
           }
          ],
          "scatter": [
           {
            "fillpattern": {
             "fillmode": "overlay",
             "size": 10,
             "solidity": 0.2
            },
            "type": "scatter"
           }
          ],
          "parcoords": [
           {
            "type": "parcoords",
            "line": {
             "colorbar": {
              "outlinewidth": 0,
              "ticks": ""
             }
            }
           }
          ],
          "scatterpolargl": [
           {
            "type": "scatterpolargl",
            "marker": {
             "colorbar": {
              "outlinewidth": 0,
              "ticks": ""
             }
            }
           }
          ],
          "bar": [
           {
            "error_x": {
             "color": "#2a3f5f"
            },
            "error_y": {
             "color": "#2a3f5f"
            },
            "marker": {
             "line": {
              "color": "#E5ECF6",
              "width": 0.5
             },
             "pattern": {
              "fillmode": "overlay",
              "size": 10,
              "solidity": 0.2
             }
            },
            "type": "bar"
           }
          ],
          "scattergeo": [
           {
            "type": "scattergeo",
            "marker": {
             "colorbar": {
              "outlinewidth": 0,
              "ticks": ""
             }
            }
           }
          ],
          "scatterpolar": [
           {
            "type": "scatterpolar",
            "marker": {
             "colorbar": {
              "outlinewidth": 0,
              "ticks": ""
             }
            }
           }
          ],
          "histogram": [
           {
            "marker": {
             "pattern": {
              "fillmode": "overlay",
              "size": 10,
              "solidity": 0.2
             }
            },
            "type": "histogram"
           }
          ],
          "scattergl": [
           {
            "type": "scattergl",
            "marker": {
             "colorbar": {
              "outlinewidth": 0,
              "ticks": ""
             }
            }
           }
          ],
          "scatter3d": [
           {
            "type": "scatter3d",
            "line": {
             "colorbar": {
              "outlinewidth": 0,
              "ticks": ""
             }
            },
            "marker": {
             "colorbar": {
              "outlinewidth": 0,
              "ticks": ""
             }
            }
           }
          ],
          "scattermapbox": [
           {
            "type": "scattermapbox",
            "marker": {
             "colorbar": {
              "outlinewidth": 0,
              "ticks": ""
             }
            }
           }
          ],
          "scatterternary": [
           {
            "type": "scatterternary",
            "marker": {
             "colorbar": {
              "outlinewidth": 0,
              "ticks": ""
             }
            }
           }
          ],
          "scattercarpet": [
           {
            "type": "scattercarpet",
            "marker": {
             "colorbar": {
              "outlinewidth": 0,
              "ticks": ""
             }
            }
           }
          ],
          "carpet": [
           {
            "aaxis": {
             "endlinecolor": "#2a3f5f",
             "gridcolor": "white",
             "linecolor": "white",
             "minorgridcolor": "white",
             "startlinecolor": "#2a3f5f"
            },
            "baxis": {
             "endlinecolor": "#2a3f5f",
             "gridcolor": "white",
             "linecolor": "white",
             "minorgridcolor": "white",
             "startlinecolor": "#2a3f5f"
            },
            "type": "carpet"
           }
          ],
          "table": [
           {
            "cells": {
             "fill": {
              "color": "#EBF0F8"
             },
             "line": {
              "color": "white"
             }
            },
            "header": {
             "fill": {
              "color": "#C8D4E3"
             },
             "line": {
              "color": "white"
             }
            },
            "type": "table"
           }
          ],
          "barpolar": [
           {
            "marker": {
             "line": {
              "color": "#E5ECF6",
              "width": 0.5
             },
             "pattern": {
              "fillmode": "overlay",
              "size": 10,
              "solidity": 0.2
             }
            },
            "type": "barpolar"
           }
          ],
          "pie": [
           {
            "automargin": true,
            "type": "pie"
           }
          ]
         },
         "layout": {
          "autotypenumbers": "strict",
          "colorway": [
           "#636efa",
           "#EF553B",
           "#00cc96",
           "#ab63fa",
           "#FFA15A",
           "#19d3f3",
           "#FF6692",
           "#B6E880",
           "#FF97FF",
           "#FECB52"
          ],
          "font": {
           "color": "#2a3f5f"
          },
          "hovermode": "closest",
          "hoverlabel": {
           "align": "left"
          },
          "paper_bgcolor": "white",
          "plot_bgcolor": "#E5ECF6",
          "polar": {
           "bgcolor": "#E5ECF6",
           "angularaxis": {
            "gridcolor": "white",
            "linecolor": "white",
            "ticks": ""
           },
           "radialaxis": {
            "gridcolor": "white",
            "linecolor": "white",
            "ticks": ""
           }
          },
          "ternary": {
           "bgcolor": "#E5ECF6",
           "aaxis": {
            "gridcolor": "white",
            "linecolor": "white",
            "ticks": ""
           },
           "baxis": {
            "gridcolor": "white",
            "linecolor": "white",
            "ticks": ""
           },
           "caxis": {
            "gridcolor": "white",
            "linecolor": "white",
            "ticks": ""
           }
          },
          "coloraxis": {
           "colorbar": {
            "outlinewidth": 0,
            "ticks": ""
           }
          },
          "colorscale": {
           "sequential": [
            [
             0.0,
             "#0d0887"
            ],
            [
             0.1111111111111111,
             "#46039f"
            ],
            [
             0.2222222222222222,
             "#7201a8"
            ],
            [
             0.3333333333333333,
             "#9c179e"
            ],
            [
             0.4444444444444444,
             "#bd3786"
            ],
            [
             0.5555555555555556,
             "#d8576b"
            ],
            [
             0.6666666666666666,
             "#ed7953"
            ],
            [
             0.7777777777777778,
             "#fb9f3a"
            ],
            [
             0.8888888888888888,
             "#fdca26"
            ],
            [
             1.0,
             "#f0f921"
            ]
           ],
           "sequentialminus": [
            [
             0.0,
             "#0d0887"
            ],
            [
             0.1111111111111111,
             "#46039f"
            ],
            [
             0.2222222222222222,
             "#7201a8"
            ],
            [
             0.3333333333333333,
             "#9c179e"
            ],
            [
             0.4444444444444444,
             "#bd3786"
            ],
            [
             0.5555555555555556,
             "#d8576b"
            ],
            [
             0.6666666666666666,
             "#ed7953"
            ],
            [
             0.7777777777777778,
             "#fb9f3a"
            ],
            [
             0.8888888888888888,
             "#fdca26"
            ],
            [
             1.0,
             "#f0f921"
            ]
           ],
           "diverging": [
            [
             0,
             "#8e0152"
            ],
            [
             0.1,
             "#c51b7d"
            ],
            [
             0.2,
             "#de77ae"
            ],
            [
             0.3,
             "#f1b6da"
            ],
            [
             0.4,
             "#fde0ef"
            ],
            [
             0.5,
             "#f7f7f7"
            ],
            [
             0.6,
             "#e6f5d0"
            ],
            [
             0.7,
             "#b8e186"
            ],
            [
             0.8,
             "#7fbc41"
            ],
            [
             0.9,
             "#4d9221"
            ],
            [
             1,
             "#276419"
            ]
           ]
          },
          "xaxis": {
           "gridcolor": "white",
           "linecolor": "white",
           "ticks": "",
           "title": {
            "standoff": 15
           },
           "zerolinecolor": "white",
           "automargin": true,
           "zerolinewidth": 2
          },
          "yaxis": {
           "gridcolor": "white",
           "linecolor": "white",
           "ticks": "",
           "title": {
            "standoff": 15
           },
           "zerolinecolor": "white",
           "automargin": true,
           "zerolinewidth": 2
          },
          "scene": {
           "xaxis": {
            "backgroundcolor": "#E5ECF6",
            "gridcolor": "white",
            "linecolor": "white",
            "showbackground": true,
            "ticks": "",
            "zerolinecolor": "white",
            "gridwidth": 2
           },
           "yaxis": {
            "backgroundcolor": "#E5ECF6",
            "gridcolor": "white",
            "linecolor": "white",
            "showbackground": true,
            "ticks": "",
            "zerolinecolor": "white",
            "gridwidth": 2
           },
           "zaxis": {
            "backgroundcolor": "#E5ECF6",
            "gridcolor": "white",
            "linecolor": "white",
            "showbackground": true,
            "ticks": "",
            "zerolinecolor": "white",
            "gridwidth": 2
           }
          },
          "shapedefaults": {
           "line": {
            "color": "#2a3f5f"
           }
          },
          "annotationdefaults": {
           "arrowcolor": "#2a3f5f",
           "arrowhead": 0,
           "arrowwidth": 1
          },
          "geo": {
           "bgcolor": "white",
           "landcolor": "#E5ECF6",
           "subunitcolor": "white",
           "showland": true,
           "showlakes": true,
           "lakecolor": "white"
          },
          "title": {
           "x": 0.05
          },
          "mapbox": {
           "style": "light"
          }
         }
        },
        "xaxis": {
         "anchor": "y",
         "domain": [
          0.0,
          1.0
         ],
         "title": {
          "text": "Column Name Weight"
         },
         "dtick": 0.1,
         "mirror": true,
         "ticks": "outside",
         "showline": true,
         "linecolor": "black",
         "gridcolor": "lightgrey"
        },
        "yaxis": {
         "anchor": "x",
         "domain": [
          0.0,
          1.0
         ],
         "title": {
          "text": "Recall@k"
         },
         "mirror": true,
         "ticks": "outside",
         "tickformat": ".2f",
         "showline": true,
         "linecolor": "black",
         "gridcolor": "lightgrey"
        },
        "legend": {
         "title": {
          "text": "Values - Name Sim Measure"
         },
         "tracegroupgap": 0,
         "orientation": "h",
         "yanchor": "bottom",
         "y": 1.02,
         "xanchor": "right",
         "x": 0.95
        },
        "margin": {
         "t": 0,
         "l": 0,
         "r": 0,
         "b": 0
        },
        "height": 600,
        "width": 800,
        "font": {
         "family": "Times Roman",
         "color": "black",
         "size": 16
        },
        "plot_bgcolor": "white"
       },
       "config": {
        "plotlyServerURL": "https://plot.ly"
       }
      },
      "text/html": "<div>                            <div id=\"04b0370c-5a4e-45e7-aaba-378e3a577e3a\" class=\"plotly-graph-div\" style=\"height:600px; width:800px;\"></div>            <script type=\"text/javascript\">                require([\"plotly\"], function(Plotly) {                    window.PLOTLYENV=window.PLOTLYENV || {};                                    if (document.getElementById(\"04b0370c-5a4e-45e7-aaba-378e3a577e3a\")) {                    Plotly.newPlot(                        \"04b0370c-5a4e-45e7-aaba-378e3a577e3a\",                        [{\"hovertemplate\":\"Values - Name Sim Measure=cos-cos\\u003cbr\\u003eColumn Name Weight=%{x}\\u003cbr\\u003eRecall@k=%{y}\\u003cextra\\u003e\\u003c\\u002fextra\\u003e\",\"legendgroup\":\"cos-cos\",\"line\":{\"color\":\"#636efa\",\"dash\":\"solid\"},\"marker\":{\"symbol\":\"circle\",\"size\":20},\"mode\":\"lines+markers\",\"name\":\"cos-cos\",\"orientation\":\"v\",\"showlegend\":true,\"x\":[0.0,0.1,0.2,0.3,0.4,0.5,0.6],\"xaxis\":\"x\",\"y\":[0.7881798241911132,0.7958392441624776,0.7983011649817475,0.8028600737370442,0.7923870725099099,0.7909934545263565,0.7779708498655343],\"yaxis\":\"y\",\"type\":\"scatter\"},{\"hovertemplate\":\"Values - Name Sim Measure=cos-euc\\u003cbr\\u003eColumn Name Weight=%{x}\\u003cbr\\u003eRecall@k=%{y}\\u003cextra\\u003e\\u003c\\u002fextra\\u003e\",\"legendgroup\":\"cos-euc\",\"line\":{\"color\":\"#EF553B\",\"dash\":\"solid\"},\"marker\":{\"symbol\":\"square\",\"size\":20},\"mode\":\"lines+markers\",\"name\":\"cos-euc\",\"orientation\":\"v\",\"showlegend\":true,\"x\":[0.0,0.1,0.2,0.3,0.4,0.5,0.6],\"xaxis\":\"x\",\"y\":[0.7881798241911132,0.8030420064028375,0.807870661768395,0.8063143650969317,0.8036047727219621,0.8035430284702099,0.7860983191947455],\"yaxis\":\"y\",\"type\":\"scatter\"},{\"hovertemplate\":\"Values - Name Sim Measure=emd-cos\\u003cbr\\u003eColumn Name Weight=%{x}\\u003cbr\\u003eRecall@k=%{y}\\u003cextra\\u003e\\u003c\\u002fextra\\u003e\",\"legendgroup\":\"emd-cos\",\"line\":{\"color\":\"#00cc96\",\"dash\":\"solid\"},\"marker\":{\"symbol\":\"diamond\",\"size\":20},\"mode\":\"lines+markers\",\"name\":\"emd-cos\",\"orientation\":\"v\",\"showlegend\":true,\"x\":[0.0,0.1,0.2,0.3,0.4,0.5,0.6],\"xaxis\":\"x\",\"y\":[0.7938707475202488,0.8010808847138114,0.8088558283754389,0.8144146434059675,0.815692744449329,0.8043632470135703,0.7737705477410636],\"yaxis\":\"y\",\"type\":\"scatter\"},{\"hovertemplate\":\"Values - Name Sim Measure=emd-euc\\u003cbr\\u003eColumn Name Weight=%{x}\\u003cbr\\u003eRecall@k=%{y}\\u003cextra\\u003e\\u003c\\u002fextra\\u003e\",\"legendgroup\":\"emd-euc\",\"line\":{\"color\":\"#ab63fa\",\"dash\":\"solid\"},\"marker\":{\"symbol\":\"cross\",\"size\":20},\"mode\":\"lines+markers\",\"name\":\"emd-euc\",\"orientation\":\"v\",\"showlegend\":true,\"x\":[0.0,0.1,0.2,0.3,0.4,0.5,0.6],\"xaxis\":\"x\",\"y\":[0.7938707475202488,0.8072109261847696,0.8153831680672159,0.8219437220814074,0.823089933941969,0.8114849275225784,0.7932027632598481],\"yaxis\":\"y\",\"type\":\"scatter\"},{\"hovertemplate\":\"Values - Name Sim Measure=euc-cos\\u003cbr\\u003eColumn Name Weight=%{x}\\u003cbr\\u003eRecall@k=%{y}\\u003cextra\\u003e\\u003c\\u002fextra\\u003e\",\"legendgroup\":\"euc-cos\",\"line\":{\"color\":\"#FFA15A\",\"dash\":\"solid\"},\"marker\":{\"symbol\":\"x\",\"size\":20},\"mode\":\"lines+markers\",\"name\":\"euc-cos\",\"orientation\":\"v\",\"showlegend\":true,\"x\":[0.0,0.1,0.2,0.3,0.4,0.5,0.6],\"xaxis\":\"x\",\"y\":[0.7861703203453284,0.7949482277884639,0.8050164962811099,0.8124387421293137,0.819138599339395,0.8129436523751166,0.7917199027149665],\"yaxis\":\"y\",\"type\":\"scatter\"},{\"hovertemplate\":\"Values - Name Sim Measure=euc-euc\\u003cbr\\u003eColumn Name Weight=%{x}\\u003cbr\\u003eRecall@k=%{y}\\u003cextra\\u003e\\u003c\\u002fextra\\u003e\",\"legendgroup\":\"euc-euc\",\"line\":{\"color\":\"#19d3f3\",\"dash\":\"solid\"},\"marker\":{\"symbol\":\"triangle-up\",\"size\":20},\"mode\":\"lines+markers\",\"name\":\"euc-euc\",\"orientation\":\"v\",\"showlegend\":true,\"x\":[0.0,0.1,0.2,0.3,0.4,0.5,0.6],\"xaxis\":\"x\",\"y\":[0.7861703203453284,0.7985180583713227,0.8157060148267564,0.8242219896376768,0.833710999126119,0.8232811607471837,0.7981613011749434],\"yaxis\":\"y\",\"type\":\"scatter\"}],                        {\"template\":{\"data\":{\"histogram2dcontour\":[{\"type\":\"histogram2dcontour\",\"colorbar\":{\"outlinewidth\":0,\"ticks\":\"\"},\"colorscale\":[[0.0,\"#0d0887\"],[0.1111111111111111,\"#46039f\"],[0.2222222222222222,\"#7201a8\"],[0.3333333333333333,\"#9c179e\"],[0.4444444444444444,\"#bd3786\"],[0.5555555555555556,\"#d8576b\"],[0.6666666666666666,\"#ed7953\"],[0.7777777777777778,\"#fb9f3a\"],[0.8888888888888888,\"#fdca26\"],[1.0,\"#f0f921\"]]}],\"choropleth\":[{\"type\":\"choropleth\",\"colorbar\":{\"outlinewidth\":0,\"ticks\":\"\"}}],\"histogram2d\":[{\"type\":\"histogram2d\",\"colorbar\":{\"outlinewidth\":0,\"ticks\":\"\"},\"colorscale\":[[0.0,\"#0d0887\"],[0.1111111111111111,\"#46039f\"],[0.2222222222222222,\"#7201a8\"],[0.3333333333333333,\"#9c179e\"],[0.4444444444444444,\"#bd3786\"],[0.5555555555555556,\"#d8576b\"],[0.6666666666666666,\"#ed7953\"],[0.7777777777777778,\"#fb9f3a\"],[0.8888888888888888,\"#fdca26\"],[1.0,\"#f0f921\"]]}],\"heatmap\":[{\"type\":\"heatmap\",\"colorbar\":{\"outlinewidth\":0,\"ticks\":\"\"},\"colorscale\":[[0.0,\"#0d0887\"],[0.1111111111111111,\"#46039f\"],[0.2222222222222222,\"#7201a8\"],[0.3333333333333333,\"#9c179e\"],[0.4444444444444444,\"#bd3786\"],[0.5555555555555556,\"#d8576b\"],[0.6666666666666666,\"#ed7953\"],[0.7777777777777778,\"#fb9f3a\"],[0.8888888888888888,\"#fdca26\"],[1.0,\"#f0f921\"]]}],\"heatmapgl\":[{\"type\":\"heatmapgl\",\"colorbar\":{\"outlinewidth\":0,\"ticks\":\"\"},\"colorscale\":[[0.0,\"#0d0887\"],[0.1111111111111111,\"#46039f\"],[0.2222222222222222,\"#7201a8\"],[0.3333333333333333,\"#9c179e\"],[0.4444444444444444,\"#bd3786\"],[0.5555555555555556,\"#d8576b\"],[0.6666666666666666,\"#ed7953\"],[0.7777777777777778,\"#fb9f3a\"],[0.8888888888888888,\"#fdca26\"],[1.0,\"#f0f921\"]]}],\"contourcarpet\":[{\"type\":\"contourcarpet\",\"colorbar\":{\"outlinewidth\":0,\"ticks\":\"\"}}],\"contour\":[{\"type\":\"contour\",\"colorbar\":{\"outlinewidth\":0,\"ticks\":\"\"},\"colorscale\":[[0.0,\"#0d0887\"],[0.1111111111111111,\"#46039f\"],[0.2222222222222222,\"#7201a8\"],[0.3333333333333333,\"#9c179e\"],[0.4444444444444444,\"#bd3786\"],[0.5555555555555556,\"#d8576b\"],[0.6666666666666666,\"#ed7953\"],[0.7777777777777778,\"#fb9f3a\"],[0.8888888888888888,\"#fdca26\"],[1.0,\"#f0f921\"]]}],\"surface\":[{\"type\":\"surface\",\"colorbar\":{\"outlinewidth\":0,\"ticks\":\"\"},\"colorscale\":[[0.0,\"#0d0887\"],[0.1111111111111111,\"#46039f\"],[0.2222222222222222,\"#7201a8\"],[0.3333333333333333,\"#9c179e\"],[0.4444444444444444,\"#bd3786\"],[0.5555555555555556,\"#d8576b\"],[0.6666666666666666,\"#ed7953\"],[0.7777777777777778,\"#fb9f3a\"],[0.8888888888888888,\"#fdca26\"],[1.0,\"#f0f921\"]]}],\"mesh3d\":[{\"type\":\"mesh3d\",\"colorbar\":{\"outlinewidth\":0,\"ticks\":\"\"}}],\"scatter\":[{\"fillpattern\":{\"fillmode\":\"overlay\",\"size\":10,\"solidity\":0.2},\"type\":\"scatter\"}],\"parcoords\":[{\"type\":\"parcoords\",\"line\":{\"colorbar\":{\"outlinewidth\":0,\"ticks\":\"\"}}}],\"scatterpolargl\":[{\"type\":\"scatterpolargl\",\"marker\":{\"colorbar\":{\"outlinewidth\":0,\"ticks\":\"\"}}}],\"bar\":[{\"error_x\":{\"color\":\"#2a3f5f\"},\"error_y\":{\"color\":\"#2a3f5f\"},\"marker\":{\"line\":{\"color\":\"#E5ECF6\",\"width\":0.5},\"pattern\":{\"fillmode\":\"overlay\",\"size\":10,\"solidity\":0.2}},\"type\":\"bar\"}],\"scattergeo\":[{\"type\":\"scattergeo\",\"marker\":{\"colorbar\":{\"outlinewidth\":0,\"ticks\":\"\"}}}],\"scatterpolar\":[{\"type\":\"scatterpolar\",\"marker\":{\"colorbar\":{\"outlinewidth\":0,\"ticks\":\"\"}}}],\"histogram\":[{\"marker\":{\"pattern\":{\"fillmode\":\"overlay\",\"size\":10,\"solidity\":0.2}},\"type\":\"histogram\"}],\"scattergl\":[{\"type\":\"scattergl\",\"marker\":{\"colorbar\":{\"outlinewidth\":0,\"ticks\":\"\"}}}],\"scatter3d\":[{\"type\":\"scatter3d\",\"line\":{\"colorbar\":{\"outlinewidth\":0,\"ticks\":\"\"}},\"marker\":{\"colorbar\":{\"outlinewidth\":0,\"ticks\":\"\"}}}],\"scattermapbox\":[{\"type\":\"scattermapbox\",\"marker\":{\"colorbar\":{\"outlinewidth\":0,\"ticks\":\"\"}}}],\"scatterternary\":[{\"type\":\"scatterternary\",\"marker\":{\"colorbar\":{\"outlinewidth\":0,\"ticks\":\"\"}}}],\"scattercarpet\":[{\"type\":\"scattercarpet\",\"marker\":{\"colorbar\":{\"outlinewidth\":0,\"ticks\":\"\"}}}],\"carpet\":[{\"aaxis\":{\"endlinecolor\":\"#2a3f5f\",\"gridcolor\":\"white\",\"linecolor\":\"white\",\"minorgridcolor\":\"white\",\"startlinecolor\":\"#2a3f5f\"},\"baxis\":{\"endlinecolor\":\"#2a3f5f\",\"gridcolor\":\"white\",\"linecolor\":\"white\",\"minorgridcolor\":\"white\",\"startlinecolor\":\"#2a3f5f\"},\"type\":\"carpet\"}],\"table\":[{\"cells\":{\"fill\":{\"color\":\"#EBF0F8\"},\"line\":{\"color\":\"white\"}},\"header\":{\"fill\":{\"color\":\"#C8D4E3\"},\"line\":{\"color\":\"white\"}},\"type\":\"table\"}],\"barpolar\":[{\"marker\":{\"line\":{\"color\":\"#E5ECF6\",\"width\":0.5},\"pattern\":{\"fillmode\":\"overlay\",\"size\":10,\"solidity\":0.2}},\"type\":\"barpolar\"}],\"pie\":[{\"automargin\":true,\"type\":\"pie\"}]},\"layout\":{\"autotypenumbers\":\"strict\",\"colorway\":[\"#636efa\",\"#EF553B\",\"#00cc96\",\"#ab63fa\",\"#FFA15A\",\"#19d3f3\",\"#FF6692\",\"#B6E880\",\"#FF97FF\",\"#FECB52\"],\"font\":{\"color\":\"#2a3f5f\"},\"hovermode\":\"closest\",\"hoverlabel\":{\"align\":\"left\"},\"paper_bgcolor\":\"white\",\"plot_bgcolor\":\"#E5ECF6\",\"polar\":{\"bgcolor\":\"#E5ECF6\",\"angularaxis\":{\"gridcolor\":\"white\",\"linecolor\":\"white\",\"ticks\":\"\"},\"radialaxis\":{\"gridcolor\":\"white\",\"linecolor\":\"white\",\"ticks\":\"\"}},\"ternary\":{\"bgcolor\":\"#E5ECF6\",\"aaxis\":{\"gridcolor\":\"white\",\"linecolor\":\"white\",\"ticks\":\"\"},\"baxis\":{\"gridcolor\":\"white\",\"linecolor\":\"white\",\"ticks\":\"\"},\"caxis\":{\"gridcolor\":\"white\",\"linecolor\":\"white\",\"ticks\":\"\"}},\"coloraxis\":{\"colorbar\":{\"outlinewidth\":0,\"ticks\":\"\"}},\"colorscale\":{\"sequential\":[[0.0,\"#0d0887\"],[0.1111111111111111,\"#46039f\"],[0.2222222222222222,\"#7201a8\"],[0.3333333333333333,\"#9c179e\"],[0.4444444444444444,\"#bd3786\"],[0.5555555555555556,\"#d8576b\"],[0.6666666666666666,\"#ed7953\"],[0.7777777777777778,\"#fb9f3a\"],[0.8888888888888888,\"#fdca26\"],[1.0,\"#f0f921\"]],\"sequentialminus\":[[0.0,\"#0d0887\"],[0.1111111111111111,\"#46039f\"],[0.2222222222222222,\"#7201a8\"],[0.3333333333333333,\"#9c179e\"],[0.4444444444444444,\"#bd3786\"],[0.5555555555555556,\"#d8576b\"],[0.6666666666666666,\"#ed7953\"],[0.7777777777777778,\"#fb9f3a\"],[0.8888888888888888,\"#fdca26\"],[1.0,\"#f0f921\"]],\"diverging\":[[0,\"#8e0152\"],[0.1,\"#c51b7d\"],[0.2,\"#de77ae\"],[0.3,\"#f1b6da\"],[0.4,\"#fde0ef\"],[0.5,\"#f7f7f7\"],[0.6,\"#e6f5d0\"],[0.7,\"#b8e186\"],[0.8,\"#7fbc41\"],[0.9,\"#4d9221\"],[1,\"#276419\"]]},\"xaxis\":{\"gridcolor\":\"white\",\"linecolor\":\"white\",\"ticks\":\"\",\"title\":{\"standoff\":15},\"zerolinecolor\":\"white\",\"automargin\":true,\"zerolinewidth\":2},\"yaxis\":{\"gridcolor\":\"white\",\"linecolor\":\"white\",\"ticks\":\"\",\"title\":{\"standoff\":15},\"zerolinecolor\":\"white\",\"automargin\":true,\"zerolinewidth\":2},\"scene\":{\"xaxis\":{\"backgroundcolor\":\"#E5ECF6\",\"gridcolor\":\"white\",\"linecolor\":\"white\",\"showbackground\":true,\"ticks\":\"\",\"zerolinecolor\":\"white\",\"gridwidth\":2},\"yaxis\":{\"backgroundcolor\":\"#E5ECF6\",\"gridcolor\":\"white\",\"linecolor\":\"white\",\"showbackground\":true,\"ticks\":\"\",\"zerolinecolor\":\"white\",\"gridwidth\":2},\"zaxis\":{\"backgroundcolor\":\"#E5ECF6\",\"gridcolor\":\"white\",\"linecolor\":\"white\",\"showbackground\":true,\"ticks\":\"\",\"zerolinecolor\":\"white\",\"gridwidth\":2}},\"shapedefaults\":{\"line\":{\"color\":\"#2a3f5f\"}},\"annotationdefaults\":{\"arrowcolor\":\"#2a3f5f\",\"arrowhead\":0,\"arrowwidth\":1},\"geo\":{\"bgcolor\":\"white\",\"landcolor\":\"#E5ECF6\",\"subunitcolor\":\"white\",\"showland\":true,\"showlakes\":true,\"lakecolor\":\"white\"},\"title\":{\"x\":0.05},\"mapbox\":{\"style\":\"light\"}}},\"xaxis\":{\"anchor\":\"y\",\"domain\":[0.0,1.0],\"title\":{\"text\":\"Column Name Weight\"},\"dtick\":0.1,\"mirror\":true,\"ticks\":\"outside\",\"showline\":true,\"linecolor\":\"black\",\"gridcolor\":\"lightgrey\"},\"yaxis\":{\"anchor\":\"x\",\"domain\":[0.0,1.0],\"title\":{\"text\":\"Recall@k\"},\"mirror\":true,\"ticks\":\"outside\",\"tickformat\":\".2f\",\"showline\":true,\"linecolor\":\"black\",\"gridcolor\":\"lightgrey\"},\"legend\":{\"title\":{\"text\":\"Values - Name Sim Measure\"},\"tracegroupgap\":0,\"orientation\":\"h\",\"yanchor\":\"bottom\",\"y\":1.02,\"xanchor\":\"right\",\"x\":0.95},\"margin\":{\"t\":0,\"l\":0,\"r\":0,\"b\":0},\"height\":600,\"width\":800,\"font\":{\"family\":\"Times Roman\",\"color\":\"black\",\"size\":16},\"plot_bgcolor\":\"white\"},                        {\"responsive\": true}                    ).then(function(){\n                            \nvar gd = document.getElementById('04b0370c-5a4e-45e7-aaba-378e3a577e3a');\nvar x = new MutationObserver(function (mutations, observer) {{\n        var display = window.getComputedStyle(gd).display;\n        if (!display || display === 'none') {{\n            console.log([gd, 'removed!']);\n            Plotly.purge(gd);\n            observer.disconnect();\n        }}\n}});\n\n// Listen for the removal of the full notebook cells\nvar notebookContainer = gd.closest('#notebook-container');\nif (notebookContainer) {{\n    x.observe(notebookContainer, {childList: true});\n}}\n\n// Listen for the clearing of the current output cell\nvar outputEl = gd.closest('.output');\nif (outputEl) {{\n    x.observe(outputEl, {childList: true});\n}}\n\n                        })                };                });            </script>        </div>"
     },
     "metadata": {},
     "output_type": "display_data"
    }
   ],
   "source": [
    "fig = px.line(average_df[average_df[\"column_name_weight\"] <= 0.6],\n",
    "              x=\"column_name_weight\", y=\"recall_at_sizeof_ground_truth\",\n",
    "              color=\"combined_sim_measure\", markers=True, symbol=\"combined_sim_measure\",\n",
    "              symbol_sequence = ['circle', 'square', 'diamond', 'cross', 'x', 'triangle-up'],\n",
    "              labels={\"column_name_weight\": \"Column Name Weight\",\n",
    "                      \"recall_at_sizeof_ground_truth\": \"Recall@k\",\n",
    "                      \"combined_sim_measure\": \"Values - Name Sim Measure\"},\n",
    "              width=800, height=600)\n",
    "fig.update_xaxes(dtick=0.1)\n",
    "fig.update_layout(\n",
    "    font_family=\"Times Roman\",\n",
    "    font_color=\"black\",\n",
    "    font_size=16,\n",
    "    plot_bgcolor='white',\n",
    "    legend=dict(orientation=\"h\",yanchor=\"bottom\",\n",
    "    y=1.02,\n",
    "    xanchor=\"right\",\n",
    "    x=0.95),\n",
    "    margin = {'l':0,'r':0,'t':0,'b':0},\n",
    ")\n",
    "fig.update_xaxes(\n",
    "    mirror=True,\n",
    "    ticks='outside',\n",
    "    showline=True,\n",
    "    linecolor='black',\n",
    "    gridcolor='lightgrey'\n",
    ")\n",
    "fig.update_yaxes(\n",
    "    mirror=True,\n",
    "    ticks='outside',\n",
    "    tickformat=\".2f\",\n",
    "    showline=True,\n",
    "    linecolor='black',\n",
    "    gridcolor='lightgrey'\n",
    ")\n",
    "fig.update_traces(marker={'size': 20})\n",
    "fig.show()"
   ],
   "metadata": {
    "collapsed": false,
    "ExecuteTime": {
     "start_time": "2024-06-01T18:54:12.346698Z",
     "end_time": "2024-06-01T18:54:12.482910Z"
    }
   }
  },
  {
   "cell_type": "code",
   "execution_count": null,
   "outputs": [],
   "source": [],
   "metadata": {
    "collapsed": false
   }
  }
 ],
 "metadata": {
  "kernelspec": {
   "display_name": "Python 3",
   "language": "python",
   "name": "python3"
  },
  "language_info": {
   "codemirror_mode": {
    "name": "ipython",
    "version": 2
   },
   "file_extension": ".py",
   "mimetype": "text/x-python",
   "name": "python",
   "nbconvert_exporter": "python",
   "pygments_lexer": "ipython2",
   "version": "2.7.6"
  }
 },
 "nbformat": 4,
 "nbformat_minor": 0
}
