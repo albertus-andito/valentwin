{
 "cells": [
  {
   "cell_type": "code",
   "execution_count": 1,
   "metadata": {
    "collapsed": true,
    "ExecuteTime": {
     "start_time": "2024-06-01T11:52:57.814484Z",
     "end_time": "2024-06-01T11:52:58.406305Z"
    }
   },
   "outputs": [],
   "source": [
    "import pandas as pd\n",
    "import os"
   ]
  },
  {
   "cell_type": "code",
   "execution_count": 2,
   "outputs": [],
   "source": [
    "root_dir = \"./results/\"\n",
    "dataset_names = os.listdir(root_dir)\n",
    "metrics_fpaths = [os.path.join(root_dir, dataset_dir, \"metrics/100.csv\") for dataset_dir in dataset_names]\n"
   ],
   "metadata": {
    "collapsed": false,
    "ExecuteTime": {
     "start_time": "2024-06-01T11:53:00.651161Z",
     "end_time": "2024-06-01T11:53:00.669627Z"
    }
   }
  },
  {
   "cell_type": "code",
   "execution_count": 4,
   "outputs": [
    {
     "name": "stderr",
     "output_type": "stream",
     "text": [
      "/var/folders/p3/fmhxg5dj6456rd03plthtvvr000pp_/T/ipykernel_54473/732932020.py:15: FutureWarning: DataFrame.groupby with axis=1 is deprecated. Do `frame.T.groupby(...)` without axis instead.\n",
      "  average_df = concatenated_df.groupby(level=1, axis=1).mean()\n",
      "/var/folders/p3/fmhxg5dj6456rd03plthtvvr000pp_/T/ipykernel_54473/732932020.py:17: FutureWarning: DataFrame.groupby with axis=1 is deprecated. Do `frame.T.groupby(...)` without axis instead.\n",
      "  std_df = concatenated_df.groupby(level=1, axis=1).std()\n"
     ]
    },
    {
     "data": {
      "text/plain": "                      recall_at_sizeof_ground_truth  precision  recall  \\\ncupid                                          0.59       0.82    0.57   \nsimilarity_flooding                            0.53       0.62    0.67   \ncoma_schema                                    0.65       0.84    0.64   \ncoma_schema_instance                           0.79       0.89    0.79   \ndistribution_based                             0.45       0.89    0.45   \njaccard                                        0.59       0.85    0.63   \nalite                                          0.39       0.78    0.36   \nstarmie-pt                                     0.78       0.79    0.86   \nstarmie-ft                                     0.76       0.77    0.85   \ndeepjoin                                       0.75       0.79    0.86   \nvalentwin                                      0.88       0.84    0.91   \n\n                      f1_score  std_recall_at_sizeof_ground_truth  \\\ncupid                     0.67                               0.02   \nsimilarity_flooding       0.64                               0.02   \ncoma_schema               0.72                               0.03   \ncoma_schema_instance      0.83                               0.02   \ndistribution_based        0.55                               0.07   \njaccard                   0.70                               0.07   \nalite                     0.46                               0.06   \nstarmie-pt                0.82                               0.03   \nstarmie-ft                0.81                               0.03   \ndeepjoin                  0.82                               0.05   \nvalentwin                 0.87                               0.03   \n\n                      std_precision  std_recall  std_f1_score  \ncupid                          0.02        0.02          0.02  \nsimilarity_flooding            0.02        0.02          0.02  \ncoma_schema                    0.02        0.03          0.03  \ncoma_schema_instance           0.02        0.02          0.02  \ndistribution_based             0.05        0.07          0.08  \njaccard                        0.05        0.08          0.07  \nalite                          0.05        0.06          0.06  \nstarmie-pt                     0.03        0.03          0.03  \nstarmie-ft                     0.03        0.04          0.03  \ndeepjoin                       0.03        0.03          0.03  \nvalentwin                      0.02        0.02          0.02  ",
      "text/html": "<div>\n<style scoped>\n    .dataframe tbody tr th:only-of-type {\n        vertical-align: middle;\n    }\n\n    .dataframe tbody tr th {\n        vertical-align: top;\n    }\n\n    .dataframe thead th {\n        text-align: right;\n    }\n</style>\n<table border=\"1\" class=\"dataframe\">\n  <thead>\n    <tr style=\"text-align: right;\">\n      <th></th>\n      <th>recall_at_sizeof_ground_truth</th>\n      <th>precision</th>\n      <th>recall</th>\n      <th>f1_score</th>\n      <th>std_recall_at_sizeof_ground_truth</th>\n      <th>std_precision</th>\n      <th>std_recall</th>\n      <th>std_f1_score</th>\n    </tr>\n  </thead>\n  <tbody>\n    <tr>\n      <th>cupid</th>\n      <td>0.59</td>\n      <td>0.82</td>\n      <td>0.57</td>\n      <td>0.67</td>\n      <td>0.02</td>\n      <td>0.02</td>\n      <td>0.02</td>\n      <td>0.02</td>\n    </tr>\n    <tr>\n      <th>similarity_flooding</th>\n      <td>0.53</td>\n      <td>0.62</td>\n      <td>0.67</td>\n      <td>0.64</td>\n      <td>0.02</td>\n      <td>0.02</td>\n      <td>0.02</td>\n      <td>0.02</td>\n    </tr>\n    <tr>\n      <th>coma_schema</th>\n      <td>0.65</td>\n      <td>0.84</td>\n      <td>0.64</td>\n      <td>0.72</td>\n      <td>0.03</td>\n      <td>0.02</td>\n      <td>0.03</td>\n      <td>0.03</td>\n    </tr>\n    <tr>\n      <th>coma_schema_instance</th>\n      <td>0.79</td>\n      <td>0.89</td>\n      <td>0.79</td>\n      <td>0.83</td>\n      <td>0.02</td>\n      <td>0.02</td>\n      <td>0.02</td>\n      <td>0.02</td>\n    </tr>\n    <tr>\n      <th>distribution_based</th>\n      <td>0.45</td>\n      <td>0.89</td>\n      <td>0.45</td>\n      <td>0.55</td>\n      <td>0.07</td>\n      <td>0.05</td>\n      <td>0.07</td>\n      <td>0.08</td>\n    </tr>\n    <tr>\n      <th>jaccard</th>\n      <td>0.59</td>\n      <td>0.85</td>\n      <td>0.63</td>\n      <td>0.70</td>\n      <td>0.07</td>\n      <td>0.05</td>\n      <td>0.08</td>\n      <td>0.07</td>\n    </tr>\n    <tr>\n      <th>alite</th>\n      <td>0.39</td>\n      <td>0.78</td>\n      <td>0.36</td>\n      <td>0.46</td>\n      <td>0.06</td>\n      <td>0.05</td>\n      <td>0.06</td>\n      <td>0.06</td>\n    </tr>\n    <tr>\n      <th>starmie-pt</th>\n      <td>0.78</td>\n      <td>0.79</td>\n      <td>0.86</td>\n      <td>0.82</td>\n      <td>0.03</td>\n      <td>0.03</td>\n      <td>0.03</td>\n      <td>0.03</td>\n    </tr>\n    <tr>\n      <th>starmie-ft</th>\n      <td>0.76</td>\n      <td>0.77</td>\n      <td>0.85</td>\n      <td>0.81</td>\n      <td>0.03</td>\n      <td>0.03</td>\n      <td>0.04</td>\n      <td>0.03</td>\n    </tr>\n    <tr>\n      <th>deepjoin</th>\n      <td>0.75</td>\n      <td>0.79</td>\n      <td>0.86</td>\n      <td>0.82</td>\n      <td>0.05</td>\n      <td>0.03</td>\n      <td>0.03</td>\n      <td>0.03</td>\n    </tr>\n    <tr>\n      <th>valentwin</th>\n      <td>0.88</td>\n      <td>0.84</td>\n      <td>0.91</td>\n      <td>0.87</td>\n      <td>0.03</td>\n      <td>0.02</td>\n      <td>0.02</td>\n      <td>0.02</td>\n    </tr>\n  </tbody>\n</table>\n</div>"
     },
     "metadata": {},
     "output_type": "display_data"
    }
   ],
   "source": [
    "dfs = {}\n",
    "for dataset_name, fpath in zip(dataset_names, metrics_fpaths):\n",
    "    df = pd.read_csv(fpath, index_col=0)\n",
    "    df = df.rename(index=lambda x: 'valentwin' if x.startswith('valentwin') else x)\n",
    "    df = df.rename(index=lambda x: 'alite' if x.startswith('alite') else x)\n",
    "    df = df.rename(index=lambda x: 'starmie-ft' if x.startswith('starmie') and x.endswith('-ft') else x)\n",
    "    df = df.rename(index=lambda x: 'starmie-pt' if x.startswith('starmie') and not x.endswith('-ft') else x)\n",
    "    df = df.rename(index=lambda x: 'deepjoin' if x.startswith('deepjoin') else x)\n",
    "    df = df[[\"recall_at_sizeof_ground_truth\", \"precision\", \"recall\", \"f1_score\"]]\n",
    "    df.columns = pd.MultiIndex.from_product([[dataset_name], df.columns])\n",
    "    dfs[dataset_name] = df\n",
    "\n",
    "concatenated_df = pd.concat(dfs.values(), axis=1)\n",
    "\n",
    "average_df = concatenated_df.groupby(level=1, axis=1).mean()\n",
    "average_df = average_df.reindex([\"recall_at_sizeof_ground_truth\", \"precision\", \"recall\", \"f1_score\"], axis=1, level=1)\n",
    "std_df = concatenated_df.groupby(level=1, axis=1).std()\n",
    "std_df.columns = ['std_' + col for col in std_df.columns]\n",
    "std_df = std_df.reindex([\"std_recall_at_sizeof_ground_truth\", \"std_precision\", \"std_recall\", \"std_f1_score\"], axis=1, level=1)\n",
    "std_error_df = std_df / len(dataset_names) ** 0.5\n",
    "\n",
    "average_df = pd.concat([average_df, std_error_df], axis=1)\n",
    "new_order = [\"cupid\", \"similarity_flooding\", \"coma_schema\", \"coma_schema_instance\", \"distribution_based\", \"jaccard\", \"alite\", \"starmie-pt\", \"starmie-ft\", \"deepjoin\", \"valentwin\"]\n",
    "average_df = average_df.reindex(new_order)\n",
    "average_df = average_df.round(2)\n",
    "pd.set_option('display.max_rows', 11)\n",
    "display(average_df)"
   ],
   "metadata": {
    "collapsed": false,
    "ExecuteTime": {
     "start_time": "2024-06-01T11:55:27.159944Z",
     "end_time": "2024-06-01T11:55:27.217404Z"
    }
   }
  },
  {
   "cell_type": "code",
   "execution_count": null,
   "outputs": [],
   "source": [],
   "metadata": {
    "collapsed": false
   }
  }
 ],
 "metadata": {
  "kernelspec": {
   "display_name": "Python 3",
   "language": "python",
   "name": "python3"
  },
  "language_info": {
   "codemirror_mode": {
    "name": "ipython",
    "version": 2
   },
   "file_extension": ".py",
   "mimetype": "text/x-python",
   "name": "python",
   "nbconvert_exporter": "python",
   "pygments_lexer": "ipython2",
   "version": "2.7.6"
  }
 },
 "nbformat": 4,
 "nbformat_minor": 0
}
