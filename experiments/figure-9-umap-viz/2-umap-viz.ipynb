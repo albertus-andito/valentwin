{
 "cells": [
  {
   "cell_type": "code",
   "execution_count": 1,
   "metadata": {
    "collapsed": true,
    "ExecuteTime": {
     "start_time": "2024-06-01T20:56:15.371777Z",
     "end_time": "2024-06-01T20:56:37.679420Z"
    }
   },
   "outputs": [],
   "source": [
    "import numpy as np\n",
    "import os\n",
    "import pandas as pd\n",
    "\n",
    "from valentwin.embedder.text_embedder import HFTextEmbedder\n",
    "from valentwin.embedder.visualizer import EmbeddingVisualizer\n"
   ]
  },
  {
   "cell_type": "code",
   "execution_count": 2,
   "outputs": [],
   "source": [
    "data_root_dir = \"../../data\"\n",
    "\n",
    "\n",
    "def prepare_dataset(dataset_name, dataset_collection):\n",
    "    dataset_files = os.listdir(os.path.join(data_root_dir, dataset_collection, dataset_name, \"sample\", \"100-test\"))\n",
    "\n",
    "    gt_labels = {}\n",
    "    gt_df = pd.read_csv(\n",
    "        os.path.join(data_root_dir, dataset_collection, dataset_name, \"ground-truth-mapping\", \"ground-truth.csv\"),\n",
    "        index_col=0)\n",
    "\n",
    "    for i, row in gt_df.iterrows():\n",
    "        col_1 = str(row[\"source_table\"]) + \"-\" + str(row[\"source_column\"])\n",
    "        col_2 = str(row[\"target_table\"]) + \"-\" + str(row[\"target_column\"])\n",
    "\n",
    "        found_key = None\n",
    "        for key, value_list in gt_labels.items():\n",
    "            if col_1 in value_list or col_2 in value_list:\n",
    "                found_key = key\n",
    "                break\n",
    "        if found_key is None:\n",
    "            found_key = col_1\n",
    "\n",
    "        value_list = gt_labels.get(found_key, set())\n",
    "\n",
    "        value_list.add(col_1)\n",
    "        value_list.add(col_2)\n",
    "\n",
    "        gt_labels[found_key] = value_list\n",
    "\n",
    "    dataset_text = []\n",
    "    dataset_labels = []\n",
    "    dataset_fnames = []\n",
    "    dataset_column_names = []\n",
    "    for fname in dataset_files:\n",
    "        df = pd.read_csv(os.path.join(data_root_dir, dataset_collection, dataset_name, \"sample\", \"100-test\", fname))\n",
    "        for col in df.columns:\n",
    "            unique_texts = df[col].astype(str).unique().tolist()\n",
    "            found_key = None\n",
    "            for key, value_list in gt_labels.items():\n",
    "                if fname.replace(\".csv\", \"\") + \"-\" + col in value_list:\n",
    "                    found_key = key\n",
    "                    break\n",
    "            if found_key is None:\n",
    "                continue\n",
    "            dataset_text.extend(unique_texts)\n",
    "            dataset_labels.extend([found_key] * len(unique_texts))\n",
    "            dataset_fnames.extend([fname.replace(\".csv\", \"\")] * len(unique_texts))\n",
    "            dataset_column_names.extend([col] * len(unique_texts))\n",
    "\n",
    "    dataset = pd.DataFrame({\"text\": dataset_text, \"label\": dataset_labels, \"dataset_name\": dataset_fnames,\n",
    "                            \"column_name\": dataset_column_names})\n",
    "    return dataset"
   ],
   "metadata": {
    "collapsed": false,
    "ExecuteTime": {
     "start_time": "2024-06-01T20:56:37.663958Z",
     "end_time": "2024-06-01T20:56:37.686069Z"
    }
   }
  },
  {
   "cell_type": "code",
   "execution_count": 3,
   "outputs": [],
   "source": [
    "dataset_name = \"1009ipopayments\"\n",
    "dataset = prepare_dataset(dataset_name, \"alite\")"
   ],
   "metadata": {
    "collapsed": false,
    "ExecuteTime": {
     "start_time": "2024-06-01T20:56:39.655546Z",
     "end_time": "2024-06-01T20:56:40.038063Z"
    }
   }
  },
  {
   "cell_type": "code",
   "execution_count": 4,
   "outputs": [],
   "source": [
    "model_names = [\"princeton-nlp/sup-simcse-roberta-base\",\n",
    "               f\"albertus-andito/valentwin-{dataset_name}-n-100-hn-10-selective-noneg-lr-3e5-bs-512\",\n",
    "               f\"albertus-andito/valentwin-{dataset_name}-n-100-hn-10-selective-neg-lr-3e5-bs-512\",\n",
    "               f\"albertus-andito/valentwin-{dataset_name}-n-100-hn-10-selective-neginter-lr-3e5-bs-512\",\n",
    "               ]"
   ],
   "metadata": {
    "collapsed": false,
    "ExecuteTime": {
     "start_time": "2024-06-01T20:57:45.456915Z",
     "end_time": "2024-06-01T20:57:45.462714Z"
    }
   }
  },
  {
   "cell_type": "code",
   "execution_count": 5,
   "outputs": [],
   "source": [
    "viz = EmbeddingVisualizer(\"text\", \"label\", [\"dataset_name\", \"column_name\"])"
   ],
   "metadata": {
    "collapsed": false,
    "ExecuteTime": {
     "start_time": "2024-06-01T20:57:46.280694Z",
     "end_time": "2024-06-01T20:57:46.288367Z"
    }
   }
  },
  {
   "cell_type": "markdown",
   "source": [
    "# SimCSE"
   ],
   "metadata": {
    "collapsed": false
   }
  },
  {
   "cell_type": "code",
   "execution_count": null,
   "outputs": [],
   "source": [
    "model = HFTextEmbedder(model_names[0], use_cache=True, device=\"cuda:0\")\n",
    "fig = viz.visualize_data(model, dataset, 2)\n",
    "fig.update_layout(\n",
    "    font_family=\"Times Roman\",\n",
    "    font_color=\"black\",\n",
    "    font_size=16,\n",
    "    plot_bgcolor='white',\n",
    "    margin = {'l':0,'r':0,'t':0,'b':0},\n",
    "    showlegend=False,\n",
    "    width=400,\n",
    "    height=400,\n",
    ")\n",
    "fig.update_xaxes(\n",
    "    mirror=True,\n",
    "    ticks='outside',\n",
    "    showline=True,\n",
    "    linecolor='black',\n",
    "    gridcolor='lightgrey'\n",
    ")\n",
    "fig.update_yaxes(\n",
    "    mirror=True,\n",
    "    ticks='outside',\n",
    "    showline=True,\n",
    "    linecolor='black',\n",
    "    gridcolor='lightgrey'\n",
    ")\n",
    "fig.add_annotation(x=-12, y=16,\n",
    "            text=\"Silhoutte score: 0.07\",\n",
    "            showarrow=False,\n",
    "            yshift=0)\n",
    "fig.show()"
   ],
   "metadata": {
    "collapsed": false
   }
  },
  {
   "cell_type": "markdown",
   "source": [
    "# No in-batch negatives"
   ],
   "metadata": {
    "collapsed": false
   }
  },
  {
   "cell_type": "code",
   "execution_count": null,
   "outputs": [],
   "source": [
    "model = HFTextEmbedder(model_names[1], use_cache=True, device=\"cuda:0\")\n",
    "fig = viz.visualize_data(model, dataset, 2)\n",
    "fig.update_layout(\n",
    "    font_family=\"Times Roman\",\n",
    "    font_color=\"black\",\n",
    "    font_size=16,\n",
    "    plot_bgcolor='white',\n",
    "    margin = {'l':0,'r':0,'t':0,'b':0},\n",
    "    showlegend=False,\n",
    "    width=400,\n",
    "    height=400,\n",
    ")\n",
    "fig.update_xaxes(\n",
    "    mirror=True,\n",
    "    ticks='outside',\n",
    "    showline=True,\n",
    "    linecolor='black',\n",
    "    gridcolor='lightgrey'\n",
    ")\n",
    "fig.update_yaxes(\n",
    "    mirror=True,\n",
    "    ticks='outside',\n",
    "    showline=True,\n",
    "    linecolor='black',\n",
    "    gridcolor='lightgrey'\n",
    ")\n",
    "fig.add_annotation(x=-3, y=26,\n",
    "            text=\"Silhoutte score: 0.87\",\n",
    "            showarrow=False,\n",
    "            yshift=0)\n",
    "fig.show()"
   ],
   "metadata": {
    "collapsed": false
   }
  },
  {
   "cell_type": "markdown",
   "source": [
    "# Intra-table in-batch negatives"
   ],
   "metadata": {
    "collapsed": false
   }
  },
  {
   "cell_type": "code",
   "execution_count": null,
   "outputs": [],
   "source": [
    "model = HFTextEmbedder(model_names[2], use_cache=True, device=\"cuda:0\")\n",
    "fig = viz.visualize_data(model, dataset, 2)\n",
    "fig.update_layout(\n",
    "    font_family=\"Times Roman\",\n",
    "    font_color=\"black\",\n",
    "    font_size=16,\n",
    "    plot_bgcolor='white',\n",
    "    margin = {'l':0,'r':0,'t':0,'b':0},\n",
    "    showlegend=False,\n",
    "    width=400,\n",
    "    height=400,\n",
    ")\n",
    "fig.update_xaxes(\n",
    "    mirror=True,\n",
    "    ticks='outside',\n",
    "    showline=True,\n",
    "    linecolor='black',\n",
    "    gridcolor='lightgrey'\n",
    ")\n",
    "fig.update_yaxes(\n",
    "    mirror=True,\n",
    "    ticks='outside',\n",
    "    showline=True,\n",
    "    linecolor='black',\n",
    "    gridcolor='lightgrey'\n",
    ")\n",
    "fig.add_annotation(x=-3, y=26,\n",
    "            text=\"Silhoutte score: 0.91\",\n",
    "            showarrow=False,\n",
    "            yshift=0)\n",
    "fig.show()"
   ],
   "metadata": {
    "collapsed": false
   }
  },
  {
   "cell_type": "markdown",
   "source": [
    "# Inter-table in-batch negatives"
   ],
   "metadata": {
    "collapsed": false
   }
  },
  {
   "cell_type": "code",
   "execution_count": null,
   "outputs": [],
   "source": [
    "model = HFTextEmbedder(model_names[3], use_cache=True, device=\"cuda:0\")\n",
    "fig = viz.visualize_data(model, dataset, 2)\n",
    "fig.update_layout(\n",
    "    font_family=\"Times Roman\",\n",
    "    font_color=\"black\",\n",
    "    font_size=16,\n",
    "    plot_bgcolor='white',\n",
    "    margin = {'l':0,'r':0,'t':0,'b':0},\n",
    "    showlegend=False,\n",
    "    width=400,\n",
    "    height=400,\n",
    ")\n",
    "fig.update_xaxes(\n",
    "    mirror=True,\n",
    "    ticks='outside',\n",
    "    showline=True,\n",
    "    linecolor='black',\n",
    "    gridcolor='lightgrey'\n",
    ")\n",
    "fig.update_yaxes(\n",
    "    mirror=True,\n",
    "    ticks='outside',\n",
    "    showline=True,\n",
    "    linecolor='black',\n",
    "    gridcolor='lightgrey'\n",
    ")\n",
    "fig.add_annotation(x=-3, y=26,\n",
    "            text=\"Silhoutte score: 0.74\",\n",
    "            showarrow=False,\n",
    "            yshift=0)\n",
    "fig.show()"
   ],
   "metadata": {
    "collapsed": false
   }
  }
 ],
 "metadata": {
  "kernelspec": {
   "display_name": "Python 3",
   "language": "python",
   "name": "python3"
  },
  "language_info": {
   "codemirror_mode": {
    "name": "ipython",
    "version": 2
   },
   "file_extension": ".py",
   "mimetype": "text/x-python",
   "name": "python",
   "nbconvert_exporter": "python",
   "pygments_lexer": "ipython2",
   "version": "2.7.6"
  }
 },
 "nbformat": 4,
 "nbformat_minor": 0
}
